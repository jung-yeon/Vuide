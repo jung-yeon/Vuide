{
 "cells": [
  {
   "cell_type": "code",
   "execution_count": 1,
   "id": "646e1760",
   "metadata": {},
   "outputs": [
    {
     "name": "stdout",
     "output_type": "stream",
     "text": [
      "{'error': 'invalid_grant', 'error_description': 'authorization code not found for code=8JSL9LOcwv_KVlhTG_YOvFBT17ZvPaBneo_34uzMwsrzDmZTdxTfAL2jz_4KPXQRAAABi8x66tr7Ewsnpgvovw', 'error_code': 'KOE320'}\n"
     ]
    }
   ],
   "source": [
    "import requests\n",
    "import json\n",
    "\n",
    "url = \"https://kauth.kakao.com/oauth/token\"\n",
    "\n",
    "data = {\n",
    "    \"grant_type\" : \"authorization_code\",\n",
    "    \"client_id\" : \"67a9642b75f21352fa424953fbec7a7b\",\n",
    "    \"redirect_uri\" : \"https://localhost.com\",\n",
    "    \"code\"         : \"8JSL9LOcwv_KVlhTG_YOvFBT17ZvPaBneo_34uzMwsrzDmZTdxTfAL2jz_4KPXQRAAABi8x66tr7Ewsnpgvovw\"\n",
    "    \n",
    "}\n",
    "response = requests.post(url, data=data)\n",
    "\n",
    "tokens = response.json()\n",
    "\n",
    "print(tokens)"
   ]
  },
  {
   "cell_type": "code",
   "execution_count": 2,
   "id": "5ca4e971",
   "metadata": {},
   "outputs": [],
   "source": [
    "with open(\"kakao_token.json\", \"w\") as fp:\n",
    "    json.dump(tokens, fp)"
   ]
  },
  {
   "cell_type": "code",
   "execution_count": 3,
   "id": "94422127",
   "metadata": {},
   "outputs": [
    {
     "name": "stdout",
     "output_type": "stream",
     "text": [
      "200\n",
      "메시지를 성공적으로 보냈습니다.\n"
     ]
    }
   ],
   "source": [
    "import json\n",
    "import requests\n",
    "\n",
    "url = \"https://kapi.kakao.com/v2/api/talk/memo/default/send\"\n",
    "\n",
    "# 사용자 토큰\n",
    "headers = {\n",
    "    \"Authorization\": \"Bearer \" + 'XAcpMCla13aK9vlpnmD5WcP5ReCYYBxaTlMKKiWOAAABi8zsxO7okopMIboAuA'\n",
    "}\n",
    "\n",
    "\n",
    "data = {\n",
    "    \"template_object\" : json.dumps({ \"object_type\" : \"text\",\n",
    "                                     \"text\" : \"Hello, world!\",\n",
    "                                     \"link\" : {\n",
    "                                                 \"web_url\" : \"www.naver.com\"\n",
    "                                              }\n",
    "    })\n",
    "}\n",
    "\n",
    "response = requests.post(url, headers=headers, data=data)\n",
    "print(response.status_code)\n",
    "if response.json().get('result_code') == 0:\n",
    "    print('메시지를 성공적으로 보냈습니다.')\n",
    "else:\n",
    "    print('메시지를 성공적으로 보내지 못했습니다. 오류메시지 : ' + str(response.json()))"
   ]
  },
  {
   "cell_type": "code",
   "execution_count": 4,
   "id": "a91ad840",
   "metadata": {},
   "outputs": [
    {
     "name": "stdout",
     "output_type": "stream",
     "text": [
      "200\n",
      "메시지를 성공적으로 보냈습니다.\n"
     ]
    }
   ],
   "source": [
    "import json\n",
    "import requests\n",
    "\n",
    "url = \"https://kapi.kakao.com/v2/api/talk/memo/default/send\"\n",
    "\n",
    "# 사용자 토큰\n",
    "headers = {\n",
    "    \"Authorization\": \"Bearer \" +  \"uhbLd6944tmC9zKGMw_C0ZHaIekmW70ShAgKKiUOAAABi8x-MnDHP8VuE1ZNOQ\"\n",
    "}\n",
    "\n",
    "template = {\n",
    "    \"object_type\" : \"list\",\n",
    "    \"header_title\" : \"초밥 사진\",\n",
    "    \"header_link\" : {\n",
    "        \"web_url\" : \"www.naver.com\",\n",
    "        \"mobile_web_url\" : \"www.naver.com\"\n",
    "    },\n",
    "    \"contents\" : [\n",
    "        {\n",
    "            \"title\" : \"1. 광어초밥\",\n",
    "            \"description\" : \"광어는 맛있다\",\n",
    "            \"image_url\" : \"https://search1.kakaocdn.net/argon/0x200_85_hr/8x5qcdbcQwi\",\n",
    "            \"image_width\" : 50, \"image_height\" : 50,\n",
    "            \"link\" : {\n",
    "                \"web_url\" : \"www.naver.com\",\n",
    "                \"mobile_web_url\" : \"www.naver.com\"\n",
    "            }\n",
    "        },\n",
    "        {\n",
    "            \"title\" : \"2. 참치초밥\",\n",
    "            \"description\" : \"참치는 맛있다\",\n",
    "            \"image_url\" : \"https://search2.kakaocdn.net/argon/0x200_85_hr/IjIToH1S7J1\",\n",
    "            \"image_width\" : 50, \"image_height\" : 50,\n",
    "            \"link\" : {\n",
    "                \"web_url\" : \"www.naver.com\",\n",
    "                \"mobile_web_url\" : \"www.naver.com\"\n",
    "            }\n",
    "        }\n",
    "        \n",
    "    ],\n",
    "    \"buttons\" : [\n",
    "        {\n",
    "            \"title\" : \"웹으로 이동\",\n",
    "            \"link\" : {\n",
    "                \"web_url\" : \"www.naver.com\",\n",
    "                \"mobile_web_url\" : \"www.naver.com\"\n",
    "            }\n",
    "        }\n",
    "    ]\n",
    "    \n",
    "}\n",
    "\n",
    "data = {\n",
    "    \"template_object\" : json.dumps(template)\n",
    "}\n",
    "\n",
    "res = requests.post(url, data=data, headers=headers)\n",
    "print(response.status_code)\n",
    "if response.json().get('result_code') == 0:\n",
    "    print('메시지를 성공적으로 보냈습니다.')\n",
    "else:\n",
    "    print('메시지를 성공적으로 보내지 못했습니다. 오류메시지 : ' + str(response.json()))"
   ]
  },
  {
   "cell_type": "code",
   "execution_count": null,
   "id": "7035cb5d",
   "metadata": {},
   "outputs": [],
   "source": []
  }
 ],
 "metadata": {
  "kernelspec": {
   "display_name": "Python 3 (ipykernel)",
   "language": "python",
   "name": "python3"
  },
  "language_info": {
   "codemirror_mode": {
    "name": "ipython",
    "version": 3
   },
   "file_extension": ".py",
   "mimetype": "text/x-python",
   "name": "python",
   "nbconvert_exporter": "python",
   "pygments_lexer": "ipython3",
   "version": "3.10.9"
  }
 },
 "nbformat": 4,
 "nbformat_minor": 5
}
