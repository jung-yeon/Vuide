{
 "cells": [
  {
   "cell_type": "markdown",
   "id": "a7c899d1",
   "metadata": {},
   "source": [
    "## 라이브러리 정의"
   ]
  },
  {
   "cell_type": "code",
   "execution_count": 11,
   "id": "69510391",
   "metadata": {},
   "outputs": [],
   "source": [
    "import requests\n",
    "import json\n",
    "import webbrowser"
   ]
  },
  {
   "cell_type": "markdown",
   "id": "98ef2316",
   "metadata": {},
   "source": [
    "## REST API"
   ]
  },
  {
   "cell_type": "code",
   "execution_count": 12,
   "id": "d8a3a92a",
   "metadata": {},
   "outputs": [],
   "source": [
    "rest_api = \"67a9642b75f21352fa424953fbec7a7b\""
   ]
  },
  {
   "cell_type": "markdown",
   "id": "1035fa25",
   "metadata": {},
   "source": [
    "---"
   ]
  },
  {
   "cell_type": "markdown",
   "id": "7ad6a6cc",
   "metadata": {},
   "source": [
    "##### 강병화 토큰 받아오기"
   ]
  },
  {
   "cell_type": "code",
   "execution_count": 19,
   "id": "f42ceddb",
   "metadata": {},
   "outputs": [
    {
     "data": {
      "text/plain": [
       "True"
      ]
     },
     "execution_count": 19,
     "metadata": {},
     "output_type": "execute_result"
    }
   ],
   "source": [
    "code_link = \"https://kauth.kakao.com/oauth/authorize?client_id=\"+str(rest_api)+\"&redirect_uri=https://localhost.com&response_type=code&scope=talk_message,friends\"\n",
    "\n",
    "chrome_path = \"C:/Program Files/Google/Chrome/Application/chrome.exe %s --incognito\"\n",
    "webbrowser.get(chrome_path).open_new(code_link)"
   ]
  },
  {
   "cell_type": "code",
   "execution_count": 20,
   "id": "d0293363",
   "metadata": {},
   "outputs": [],
   "source": [
    "url = \"https://localhost.com/?code=BCwrEbXuHfV5M99GiEE2jIpV36I-C_gwIpO7qfHav0HlUR3cERvDYALD8fwKKclfAAABi_CLgEb7Ewsnpgvovw\"\n",
    "\n",
    "# URL에서 'code=' 문자열을 기준으로 분할하고 두 번째 부분을 추출합니다.\n",
    "code = url.split('code=')[1]"
   ]
  },
  {
   "cell_type": "code",
   "execution_count": 21,
   "id": "38c7ce33",
   "metadata": {},
   "outputs": [
    {
     "name": "stdout",
     "output_type": "stream",
     "text": [
      "토큰 확인하기: \n",
      " {'access_token': 'LhYSBnjTC57uxKxRkGhUqNjiOyWZjP6que0KPXTZAAABi_CMAnm2xj-RG-1vuA', 'token_type': 'bearer', 'refresh_token': 'Ma63A9BC5_z8EGBLl7WP1gRb7kIH__vqNlgKPXTZAAABi_CMAna2xj-RG-1vuA', 'expires_in': 21599, 'scope': 'talk_message friends', 'refresh_token_expires_in': 5183999} \n",
      "\n",
      "access_token: LhYSBnjTC57uxKxRkGhUqNjiOyWZjP6que0KPXTZAAABi_CMAnm2xj-RG-1vuA \n",
      "\n",
      "refresh_token: Ma63A9BC5_z8EGBLl7WP1gRb7kIH__vqNlgKPXTZAAABi_CMAna2xj-RG-1vuA \n",
      "\n"
     ]
    }
   ],
   "source": [
    "url = \"https://kauth.kakao.com/oauth/token\"\n",
    "\n",
    "data = {\n",
    "    \"grant_type\" : \"authorization_code\",\n",
    "    \"client_id\" : rest_api,\n",
    "    \"redirect_uri\" : \"https://localhost.com\",\n",
    "    \"code\"         : code\n",
    "    \n",
    "}\n",
    "response = requests.post(url, data=data)\n",
    "\n",
    "tokens = response.json()\n",
    "print(\"토큰 확인하기:\", \"\\n\", tokens, \"\\n\")\n",
    "with open(\"kakao_api.json\", \"w\") as a:\n",
    "    json.dump(tokens, a)\n",
    "print(\"access_token:\",tokens[\"access_token\"], \"\\n\")\n",
    "print(\"refresh_token:\", tokens[\"refresh_token\"], \"\\n\")\n",
    "access_token_kbh = tokens[\"access_token\"]\n",
    "refresh_token_kbh = tokens[\"refresh_token\"]"
   ]
  },
  {
   "cell_type": "markdown",
   "id": "b5302cd5",
   "metadata": {},
   "source": [
    "___"
   ]
  },
  {
   "cell_type": "markdown",
   "id": "71455110",
   "metadata": {},
   "source": [
    "##### 권준오 토큰 받아오기"
   ]
  },
  {
   "cell_type": "code",
   "execution_count": 13,
   "id": "b35aa034",
   "metadata": {},
   "outputs": [
    {
     "data": {
      "text/plain": [
       "True"
      ]
     },
     "execution_count": 13,
     "metadata": {},
     "output_type": "execute_result"
    }
   ],
   "source": [
    "code_link = \"https://kauth.kakao.com/oauth/authorize?client_id=\"+str(rest_api)+\"&redirect_uri=https://localhost.com&response_type=code&scope=talk_message,friends\"\n",
    "\n",
    "chrome_path = \"C:/Program Files/Google/Chrome/Application/chrome.exe %s --incognito\"\n",
    "webbrowser.get(chrome_path).open_new(code_link)"
   ]
  },
  {
   "cell_type": "code",
   "execution_count": 14,
   "id": "2242ebfd",
   "metadata": {},
   "outputs": [],
   "source": [
    "url = \"https://localhost.com/?code=nQGQzS0md1BJYAq-sdHn86RYzNC4ASevx9b6JkItjApIqXlVdQm2FOIx32oKPXTbAAABi_CHs9nMISgqRbFCUQ\"\n",
    "\n",
    "# URL에서 'code=' 문자열을 기준으로 분할하고 두 번째 부분을 추출합니다.\n",
    "code = url.split('code=')[1]"
   ]
  },
  {
   "cell_type": "code",
   "execution_count": 15,
   "id": "ebdad33a",
   "metadata": {},
   "outputs": [
    {
     "name": "stdout",
     "output_type": "stream",
     "text": [
      "토큰 확인하기: \n",
      " {'access_token': 'KazA4V-NSY8cey85uNfB9oaNpMA4knupK84KKw0gAAABi_CIVnrHP8VuE1ZNOQ', 'token_type': 'bearer', 'refresh_token': '442nza8xKkkQ1k8GMDF79pKOopJq7_uOlfUKKw0gAAABi_CIVnfHP8VuE1ZNOQ', 'expires_in': 21599, 'scope': 'talk_message friends', 'refresh_token_expires_in': 5183999} \n",
      "\n",
      "access_token: KazA4V-NSY8cey85uNfB9oaNpMA4knupK84KKw0gAAABi_CIVnrHP8VuE1ZNOQ \n",
      "\n",
      "refresh_token: 442nza8xKkkQ1k8GMDF79pKOopJq7_uOlfUKKw0gAAABi_CIVnfHP8VuE1ZNOQ \n",
      "\n"
     ]
    }
   ],
   "source": [
    "url = \"https://kauth.kakao.com/oauth/token\"\n",
    "\n",
    "data = {\n",
    "    \"grant_type\" : \"authorization_code\",\n",
    "    \"client_id\" : rest_api,\n",
    "    \"redirect_uri\" : \"https://localhost.com\",\n",
    "    \"code\"         : code\n",
    "    \n",
    "}\n",
    "response = requests.post(url, data=data)\n",
    "\n",
    "tokens = response.json()\n",
    "print(\"토큰 확인하기:\", \"\\n\", tokens, \"\\n\")\n",
    "with open(\"kakao_api.json\", \"w\") as a:\n",
    "    json.dump(tokens, a)\n",
    "print(\"access_token:\",tokens[\"access_token\"], \"\\n\")\n",
    "print(\"refresh_token:\", tokens[\"refresh_token\"], \"\\n\")\n",
    "access_token_kbh = tokens[\"access_token\"]\n",
    "refresh_token_kbh = tokens[\"refresh_token\"]"
   ]
  },
  {
   "cell_type": "markdown",
   "id": "f5e81407",
   "metadata": {},
   "source": [
    "---"
   ]
  },
  {
   "cell_type": "markdown",
   "id": "a5bf9f7c",
   "metadata": {},
   "source": [
    "##### 김재영 토큰 받아오기"
   ]
  },
  {
   "cell_type": "code",
   "execution_count": 16,
   "id": "42d6fae6",
   "metadata": {},
   "outputs": [
    {
     "data": {
      "text/plain": [
       "True"
      ]
     },
     "execution_count": 16,
     "metadata": {},
     "output_type": "execute_result"
    }
   ],
   "source": [
    "code_link = \"https://kauth.kakao.com/oauth/authorize?client_id=\"+str(rest_api)+\"&redirect_uri=https://localhost.com&response_type=code&scope=talk_message,friends\"\n",
    "\n",
    "chrome_path = \"C:/Program Files/Google/Chrome/Application/chrome.exe %s --incognito\"\n",
    "webbrowser.get(chrome_path).open_new(code_link)"
   ]
  },
  {
   "cell_type": "code",
   "execution_count": 17,
   "id": "720968ea",
   "metadata": {},
   "outputs": [],
   "source": [
    "url = \"https://localhost.com/?code=CSdjLBFwOcP5Ko-NQdfU2UbLh6I4Wx93tMGo_P92y5wntZ_n3tITcGt2GXcKPXUaAAABi_CJOQ9SGUcvaFb1Eg\"\n",
    "\n",
    "# URL에서 'code=' 문자열을 기준으로 분할하고 두 번째 부분을 추출합니다.\n",
    "code = url.split('code=')[1]"
   ]
  },
  {
   "cell_type": "code",
   "execution_count": 18,
   "id": "cf496868",
   "metadata": {},
   "outputs": [
    {
     "name": "stdout",
     "output_type": "stream",
     "text": [
      "토큰 확인하기: \n",
      " {'access_token': 'lK3rbmpBXnvDGehCmlnLuAGBt4fmYoOlWnEKKw0gAAABi_CJw9ktjdRiIM79qQ', 'token_type': 'bearer', 'refresh_token': 'qf8nMGuE70SZNtyW6T4OgaXkA4tzH-ojo2YKKw0gAAABi_CJw9YtjdRiIM79qQ', 'expires_in': 21599, 'scope': 'talk_message friends', 'refresh_token_expires_in': 5183999} \n",
      "\n",
      "access_token: lK3rbmpBXnvDGehCmlnLuAGBt4fmYoOlWnEKKw0gAAABi_CJw9ktjdRiIM79qQ \n",
      "\n",
      "refresh_token: qf8nMGuE70SZNtyW6T4OgaXkA4tzH-ojo2YKKw0gAAABi_CJw9YtjdRiIM79qQ \n",
      "\n"
     ]
    }
   ],
   "source": [
    "url = \"https://kauth.kakao.com/oauth/token\"\n",
    "\n",
    "data = {\n",
    "    \"grant_type\" : \"authorization_code\",\n",
    "    \"client_id\" : rest_api,\n",
    "    \"redirect_uri\" : \"https://localhost.com\",\n",
    "    \"code\"         : code\n",
    "    \n",
    "}\n",
    "response = requests.post(url, data=data)\n",
    "\n",
    "tokens = response.json()\n",
    "print(\"토큰 확인하기:\", \"\\n\", tokens, \"\\n\")\n",
    "with open(\"kakao_api.json\", \"w\") as a:\n",
    "    json.dump(tokens, a)\n",
    "print(\"access_token:\",tokens[\"access_token\"], \"\\n\")\n",
    "print(\"refresh_token:\", tokens[\"refresh_token\"], \"\\n\")\n",
    "access_token_kbh = tokens[\"access_token\"]\n",
    "refresh_token_kbh = tokens[\"refresh_token\"]"
   ]
  },
  {
   "cell_type": "markdown",
   "id": "caeb47da",
   "metadata": {},
   "source": [
    "---"
   ]
  },
  {
   "cell_type": "markdown",
   "id": "17bf88e1",
   "metadata": {},
   "source": [
    "##### 이승준 토큰 받아오기"
   ]
  },
  {
   "cell_type": "code",
   "execution_count": 6,
   "id": "3f46720b",
   "metadata": {},
   "outputs": [
    {
     "data": {
      "text/plain": [
       "True"
      ]
     },
     "execution_count": 6,
     "metadata": {},
     "output_type": "execute_result"
    }
   ],
   "source": [
    "code_link = \"https://kauth.kakao.com/oauth/authorize?client_id=\"+str(rest_api)+\"&redirect_uri=https://localhost.com&response_type=code&scope=talk_message,friends\"\n",
    "\n",
    "chrome_path = \"C:/Program Files/Google/Chrome/Application/chrome.exe %s --incognito\"\n",
    "webbrowser.get(chrome_path).open_new(code_link)"
   ]
  },
  {
   "cell_type": "code",
   "execution_count": 9,
   "id": "4e017a1d",
   "metadata": {},
   "outputs": [],
   "source": [
    "url = \"https://localhost.com/?code=_ZJEJVw1NWOWGeIwEYDTzA-mMn3xsQulutBx-fvSxG5szqX7lIIFFmOtLIgKPXUbAAABi_B01rFb9Pmr5eg_ZA\"\n",
    "\n",
    "# URL에서 'code=' 문자열을 기준으로 분할하고 두 번째 부분을 추출합니다.\n",
    "code = url.split('code=')[1]"
   ]
  },
  {
   "cell_type": "code",
   "execution_count": 10,
   "id": "35556331",
   "metadata": {},
   "outputs": [
    {
     "name": "stdout",
     "output_type": "stream",
     "text": [
      "토큰 확인하기: \n",
      " {'access_token': 'nfSigKXxrf95bnd7R3uE5M9BaEaUcCp-HVEKPXVcAAABi_B2tRzokopMIboAuA', 'token_type': 'bearer', 'refresh_token': 'Sc4rdNWvafhqNH_DyH6V1K0MXBQ3oGrptSIKPXVcAAABi_B2tRnokopMIboAuA', 'expires_in': 21599, 'scope': 'talk_message friends', 'refresh_token_expires_in': 5183999} \n",
      "\n",
      "access_token: nfSigKXxrf95bnd7R3uE5M9BaEaUcCp-HVEKPXVcAAABi_B2tRzokopMIboAuA \n",
      "\n",
      "refresh_token: Sc4rdNWvafhqNH_DyH6V1K0MXBQ3oGrptSIKPXVcAAABi_B2tRnokopMIboAuA \n",
      "\n"
     ]
    }
   ],
   "source": [
    "url = \"https://kauth.kakao.com/oauth/token\"\n",
    "\n",
    "data = {\n",
    "    \"grant_type\" : \"authorization_code\",\n",
    "    \"client_id\" : rest_api,\n",
    "    \"redirect_uri\" : \"https://localhost.com\",\n",
    "    \"code\"         : code\n",
    "    \n",
    "}\n",
    "response = requests.post(url, data=data)\n",
    "\n",
    "tokens = response.json()\n",
    "print(\"토큰 확인하기:\", \"\\n\", tokens, \"\\n\")\n",
    "with open(\"kakao_api.json\", \"w\") as a:\n",
    "    json.dump(tokens, a)\n",
    "print(\"access_token:\",tokens[\"access_token\"], \"\\n\")\n",
    "print(\"refresh_token:\", tokens[\"refresh_token\"], \"\\n\")\n",
    "access_token_kbh = tokens[\"access_token\"]\n",
    "refresh_token_kbh = tokens[\"refresh_token\"]"
   ]
  },
  {
   "cell_type": "markdown",
   "id": "de39810f",
   "metadata": {},
   "source": [
    "---"
   ]
  },
  {
   "cell_type": "markdown",
   "id": "641a06c0",
   "metadata": {},
   "source": [
    "##### 이정연 토큰 받아오기"
   ]
  },
  {
   "cell_type": "code",
   "execution_count": 3,
   "id": "0b65c33d",
   "metadata": {},
   "outputs": [
    {
     "data": {
      "text/plain": [
       "True"
      ]
     },
     "execution_count": 3,
     "metadata": {},
     "output_type": "execute_result"
    }
   ],
   "source": [
    "code_link = \"https://kauth.kakao.com/oauth/authorize?client_id=\"+str(rest_api)+\"&redirect_uri=https://localhost.com&response_type=code&scope=talk_message,friends\"\n",
    "\n",
    "chrome_path = \"C:/Program Files/Google/Chrome/Application/chrome.exe %s --incognito\"\n",
    "webbrowser.get(chrome_path).open_new(code_link)"
   ]
  },
  {
   "cell_type": "code",
   "execution_count": 4,
   "id": "72221b77",
   "metadata": {},
   "outputs": [],
   "source": [
    "url = \"https://localhost.com/?code=A9I-3vOPPNrPlCIDC6y0kQHvLLuUDsMIG7xiztRDC1KBuf1MVL-7KKA_7r4KKwzTAAABi_BvlBCvm_uHqQwxKA\"\n",
    "\n",
    "# URL에서 'code=' 문자열을 기준으로 분할하고 두 번째 부분을 추출합니다.\n",
    "code = url.split('code=')[1]"
   ]
  },
  {
   "cell_type": "code",
   "execution_count": 5,
   "id": "2a2435bb",
   "metadata": {},
   "outputs": [
    {
     "name": "stdout",
     "output_type": "stream",
     "text": [
      "토큰 확인하기: \n",
      " {'access_token': '-P-kkmXGHin1VMq1ZTAFh26KuzipH8-ZOigKPXTZAAABi_BwII3E017PSiBv1Q', 'token_type': 'bearer', 'refresh_token': 'XPqm0fvsZwfeKF3zPA3sbwN3urB7Aj9T3wsKPXTZAAABi_BwIIvE017PSiBv1Q', 'expires_in': 21599, 'scope': 'talk_message friends', 'refresh_token_expires_in': 5183999} \n",
      "\n",
      "access_token: -P-kkmXGHin1VMq1ZTAFh26KuzipH8-ZOigKPXTZAAABi_BwII3E017PSiBv1Q \n",
      "\n",
      "refresh_token: XPqm0fvsZwfeKF3zPA3sbwN3urB7Aj9T3wsKPXTZAAABi_BwIIvE017PSiBv1Q \n",
      "\n"
     ]
    }
   ],
   "source": [
    "url = \"https://kauth.kakao.com/oauth/token\"\n",
    "\n",
    "data = {\n",
    "    \"grant_type\" : \"authorization_code\",\n",
    "    \"client_id\" : rest_api,\n",
    "    \"redirect_uri\" : \"https://localhost.com\",\n",
    "    \"code\"         : code\n",
    "    \n",
    "}\n",
    "response = requests.post(url, data=data)\n",
    "\n",
    "tokens = response.json()\n",
    "print(\"토큰 확인하기:\", \"\\n\", tokens, \"\\n\")\n",
    "with open(\"kakao_api.json\", \"w\") as a:\n",
    "    json.dump(tokens, a)\n",
    "print(\"access_token:\",tokens[\"access_token\"], \"\\n\")\n",
    "print(\"refresh_token:\", tokens[\"refresh_token\"], \"\\n\")\n",
    "access_token_kbh = tokens[\"access_token\"]\n",
    "refresh_token_kbh = tokens[\"refresh_token\"]"
   ]
  },
  {
   "cell_type": "markdown",
   "id": "7fdcc543",
   "metadata": {},
   "source": [
    "---"
   ]
  },
  {
   "cell_type": "markdown",
   "id": "433ac98b",
   "metadata": {},
   "source": [
    "## 연결 끊기"
   ]
  },
  {
   "cell_type": "markdown",
   "id": "574e0727",
   "metadata": {},
   "source": [
    "https://accounts.kakao.com/weblogin/account/partner "
   ]
  }
 ],
 "metadata": {
  "kernelspec": {
   "display_name": "Python 3 (ipykernel)",
   "language": "python",
   "name": "python3"
  },
  "language_info": {
   "codemirror_mode": {
    "name": "ipython",
    "version": 3
   },
   "file_extension": ".py",
   "mimetype": "text/x-python",
   "name": "python",
   "nbconvert_exporter": "python",
   "pygments_lexer": "ipython3",
   "version": "3.10.9"
  }
 },
 "nbformat": 4,
 "nbformat_minor": 5
}
