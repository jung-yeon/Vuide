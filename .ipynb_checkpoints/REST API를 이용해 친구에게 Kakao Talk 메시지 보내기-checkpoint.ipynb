{
 "cells": [
  {
   "cell_type": "markdown",
   "id": "8c173ed2",
   "metadata": {},
   "source": [
    "## 라이브러리 정의"
   ]
  },
  {
   "cell_type": "code",
   "execution_count": 49,
   "id": "44a00c35",
   "metadata": {},
   "outputs": [],
   "source": [
    "import requests\n",
    "import json"
   ]
  },
  {
   "cell_type": "markdown",
   "id": "5ae6071a",
   "metadata": {},
   "source": [
    "## REST API"
   ]
  },
  {
   "cell_type": "code",
   "execution_count": 50,
   "id": "d41fd68e",
   "metadata": {},
   "outputs": [],
   "source": [
    "rest_api = \"67a9642b75f21352fa424953fbec7a7b\""
   ]
  },
  {
   "cell_type": "markdown",
   "id": "a7b4e460",
   "metadata": {},
   "source": [
    "## 사용자 토큰 정의"
   ]
  },
  {
   "cell_type": "code",
   "execution_count": 51,
   "id": "39053ff8",
   "metadata": {},
   "outputs": [],
   "source": [
    "# 강병화\n",
    "acs_kbh = \"2qYoFkb7H_jib5DKzwYGFbSPyWdeLvUVw7YKKw0eAAABi_8oPFe2xj-RG-1vuA\"\n",
    "ref_kbh = \"tVATh9nZtRCP5amSS4ROWurNuTfN-i9tvCQKKw0eAAABi_8oPFS2xj-RG-1vuA\"\n",
    "\n",
    "# 권준오\n",
    "acs_kjo = \"KazA4V-NSY8cey85uNfB9oaNpMA4knupK84KKw0gAAABi_CIVnrHP8VuE1ZNOQ\"\n",
    "ref_kjo = \"442nza8xKkkQ1k8GMDF79pKOopJq7_uOlfUKKw0gAAABi_CIVnfHP8VuE1ZNOQ\"\n",
    "\n",
    "# 김재영\n",
    "acs_kjy = \"lK3rbmpBXnvDGehCmlnLuAGBt4fmYoOlWnEKKw0gAAABi_CJw9ktjdRiIM79qQ\"\n",
    "ref_kjy = \"qf8nMGuE70SZNtyW6T4OgaXkA4tzH-ojo2YKKw0gAAABi_CJw9YtjdRiIM79qQ\"\n",
    "\n",
    "# 이승준\n",
    "acs_lsj = \"nfSigKXxrf95bnd7R3uE5M9BaEaUcCp-HVEKPXVcAAABi_B2tRzokopMIboAuA\"\n",
    "ref_lsj = \"Sc4rdNWvafhqNH_DyH6V1K0MXBQ3oGrptSIKPXVcAAABi_B2tRnokopMIboAuA\"\n",
    "\n",
    "# 이정연\n",
    "acs_ljy = \"-P-kkmXGHin1VMq1ZTAFh26KuzipH8-ZOigKPXTZAAABi_BwII3E017PSiBv1Q\"\n",
    "ref_ljy = \"XPqm0fvsZwfeKF3zPA3sbwN3urB7Aj9T3wsKPXTZAAABi_BwIIvE017PSiBv1Q\""
   ]
  },
  {
   "cell_type": "markdown",
   "id": "11baffff",
   "metadata": {},
   "source": [
    "## 카카오 API 엑세스 토큰 받아오기"
   ]
  },
  {
   "cell_type": "code",
   "execution_count": 52,
   "id": "3053134a",
   "metadata": {},
   "outputs": [],
   "source": [
    "# 카카오톡 메시지 API\n",
    "url = \"https://kauth.kakao.com/oauth/token\"\n",
    "data = {\n",
    "    \"grant_type\": \"refresh_token\",\n",
    "    \"client_id\": rest_api,\n",
    "    \"refresh_token\": ref_kbh # 사용자 정의하기(refresh token 사용)\n",
    "}\n",
    "response = requests.post(url, data=data)\n",
    "tokens = response.json()\n",
    "# kakao_code.json 파일 저장\n",
    "with open(\"kakao_code.json\", \"w\") as fp:\n",
    "    json.dump(tokens, fp)"
   ]
  },
  {
   "cell_type": "code",
   "execution_count": 53,
   "id": "04d14575",
   "metadata": {},
   "outputs": [
    {
     "name": "stdout",
     "output_type": "stream",
     "text": [
      "{'access_token': '7eiIA8bNiPL-VhXHR56Hf2iJ2gTN7qBeD44KKwzSAAABi_8vUpy2xj-RG-1vuA', 'token_type': 'bearer', 'expires_in': 21599}\n"
     ]
    }
   ],
   "source": [
    "# 토큰 확인하기\n",
    "print(tokens)"
   ]
  },
  {
   "cell_type": "code",
   "execution_count": 54,
   "id": "983a8a9c",
   "metadata": {},
   "outputs": [
    {
     "name": "stdout",
     "output_type": "stream",
     "text": [
      "7eiIA8bNiPL-VhXHR56Hf2iJ2gTN7qBeD44KKwzSAAABi_8vUpy2xj-RG-1vuA\n"
     ]
    }
   ],
   "source": [
    "# 카카오 API 엑세스 토큰\n",
    "with open(\"kakao_code.json\", \"r\") as fp:\n",
    "    tokens = json.load(fp)    \n",
    "print(tokens[\"access_token\"]) # 받아온 access_token 확인하기"
   ]
  },
  {
   "cell_type": "markdown",
   "id": "7d4430bb",
   "metadata": {},
   "source": [
    "## 친구 목록 가져오기"
   ]
  },
  {
   "cell_type": "code",
   "execution_count": 55,
   "id": "b1bcb857",
   "metadata": {},
   "outputs": [
    {
     "name": "stdout",
     "output_type": "stream",
     "text": [
      "[{'profile_nickname': '이승준', 'profile_thumbnail_image': 'https://p.kakaocdn.net/th/talkp/wonMtIebwB/RYhSgxvk0R052K8oBUnkzK/0irxxt_110x110_c.jpg', 'allowed_msg': True, 'id': 3162546827, 'uuid': 'XW5WZFRkUGJRfUV1RHVEfU19UWhRZFZnUQ8', 'favorite': False}, {'profile_nickname': '재영이형님', 'profile_thumbnail_image': 'https://p.kakaocdn.net/th/talkp/wnH3c1iCap/pmZvDwQMi3D2wcOmk9YMXK/5pczzx_110x110_c.jpg', 'allowed_msg': True, 'id': 3173347966, 'uuid': 'XWpabFpsVXlLfk15Sn9KflJrUmdVZFIw', 'favorite': False}, {'profile_nickname': '정연', 'profile_thumbnail_image': 'https://p.kakaocdn.net/th/talkp/womNbaWDRz/0JIW2sifUAH3U0p28gKmtk/txi1jw_110x110_c.jpg', 'allowed_msg': True, 'id': 3172293643, 'uuid': 'XWxYb1ZgU2BXe0l4QXZBdU1-TWFYYVRmV2EF', 'favorite': False}, {'profile_nickname': '준오', 'profile_thumbnail_image': 'https://p.kakaocdn.net/th/talkp/wnYWTYGvbA/IuMMVZnKUq6ZtctUure7UK/gj94yn_110x110_c.jpg', 'allowed_msg': True, 'id': 3162365382, 'uuid': 'XW5dbVxpWGxZdUN6Sn5MdEN1WWBZbF5vWTA', 'favorite': False}]\n"
     ]
    }
   ],
   "source": [
    "url = \"https://kapi.kakao.com/v1/api/talk/friends\" #친구 목록 가져오기\n",
    "header = {\"Authorization\": 'Bearer ' + tokens[\"access_token\"]}\n",
    "result = json.loads(requests.get(url, headers=header).text)\n",
    "friends_list = result.get(\"elements\")\n",
    "print(friends_list)"
   ]
  },
  {
   "cell_type": "code",
   "execution_count": 56,
   "id": "863f7fc8",
   "metadata": {},
   "outputs": [
    {
     "name": "stdout",
     "output_type": "stream",
     "text": [
      "XWxYb1ZgU2BXe0l4QXZBdU1-TWFYYVRmV2EF\n"
     ]
    }
   ],
   "source": [
    "friend_id = friends_list[2].get(\"uuid\") # 메시지 보낼 사람 지정하기(인덱스로 지정)\n",
    "print(friend_id)"
   ]
  },
  {
   "cell_type": "code",
   "execution_count": 58,
   "id": "9b9911df",
   "metadata": {},
   "outputs": [
    {
     "data": {
      "text/plain": [
       "200"
      ]
     },
     "execution_count": 58,
     "metadata": {},
     "output_type": "execute_result"
    }
   ],
   "source": [
    "# 카카오톡 메시지\n",
    "url= \"https://kapi.kakao.com/v1/api/talk/friends/message/default/send\"\n",
    "header = {\"Authorization\": 'Bearer ' + tokens[\"access_token\"]}\n",
    "data={\n",
    "    'receiver_uuids': '[\"{}\"]'.format(friend_id),\n",
    "    \"template_object\": json.dumps({\n",
    "        \"object_type\":\"text\",\n",
    "        \"text\":\"오늘 KT 별로야\",\n",
    "        \"link\":{\n",
    "            \"web_url\" : \"https://www.google.co.kr/search?q=deep+learning&source=lnms&tbm=nws\",\n",
    "            \"mobile_web_url\" : \"https://www.google.co.kr/search?q=deep+learning&source=lnms&tbm=nws\"\n",
    "        },\n",
    "        \"button_title\": \"링크 보내기\"\n",
    "    })\n",
    "}\n",
    "response = requests.post(url, headers=header, data=data)\n",
    "response.status_code"
   ]
  },
  {
   "cell_type": "code",
   "execution_count": null,
   "id": "14431f6b",
   "metadata": {},
   "outputs": [],
   "source": []
  }
 ],
 "metadata": {
  "kernelspec": {
   "display_name": "Python 3 (ipykernel)",
   "language": "python",
   "name": "python3"
  },
  "language_info": {
   "codemirror_mode": {
    "name": "ipython",
    "version": 3
   },
   "file_extension": ".py",
   "mimetype": "text/x-python",
   "name": "python",
   "nbconvert_exporter": "python",
   "pygments_lexer": "ipython3",
   "version": "3.10.9"
  }
 },
 "nbformat": 4,
 "nbformat_minor": 5
}
