{
 "cells": [
  {
   "cell_type": "code",
   "execution_count": null,
   "id": "757d258f",
   "metadata": {},
   "outputs": [
    {
     "name": "stdout",
     "output_type": "stream",
     "text": [
      "질문: 날씨는 어떻게 알 수 있어?\n",
      "응답: 카카오톡\n",
      "시작 위치 스코어: 3.109203815460205\n",
      "끝 위치 스코어: 0.6005146503448486\n"
     ]
    }
   ],
   "source": [
    "from transformers import ElectraTokenizer, ElectraForQuestionAnswering\n",
    "import torch\n",
    "\n",
    "# 한국어 Electra 모델과 토크나이저 불러오기\n",
    "model_name = \"monologg/koelectra-base-v3-finetuned-korquad\"\n",
    "tokenizer = ElectraTokenizer.from_pretrained(model_name)\n",
    "model = ElectraForQuestionAnswering.from_pretrained(model_name)\n",
    "\n",
    "\n",
    "qst_lst = ['날씨는 어떻게 알 수 있어?', '날씨 정보 알고 싶은데 알려줘', '카카오톡은 어떻게 하는거야?', '메시지는 어떻게 보내?',\n",
    "          '주차장 위치를 물어보고 싶은데 방법 좀 알려줘', '주차장 기능은 어떻게 쓰는거야?', '현재 시간은 뭐라고 물어봐야해?', '시간 알려주는 기능 좀 알려줘',\n",
    "          '현재 온도는 어떻게 알 수 있어?', '현재 온도 알 수 있는 방법 좀 알려줘', '현재 습도 알려주는 기능은 뭐야?', '습도 사용법 좀 알려줘']\n",
    "\n",
    "for i in range(len(qst_lst)):\n",
    "    # 예시 질문과 맥락\n",
    "    question = qst_lst[i]\n",
    "    context = \"\"\"\n",
    "    날씨 정보에 대해서 알고 싶으면 1이다.\n",
    "    \n",
    "    날씨 정보는 1이다.\n",
    "    \n",
    "    카카오톡에 대해서 알고 싶으면2이다.\n",
    "    \n",
    "    메세지에 대해서 알고 싶으면 2이다.\n",
    "    \n",
    "    주차장에 대해서 알고 싶으면 3이다.\n",
    "    \n",
    "    시간에 대해서 알고 싶으면 4이다.\n",
    "    \n",
    "    온도에 대해서 알고 싶으면 5이다.\n",
    "    \n",
    "    습도에 대해서 알고 싶으면 6이다.\n",
    "    \"\"\"\n",
    "\n",
    "    # 직접 모델 사용\n",
    "    inputs = tokenizer(question, context, return_tensors=\"pt\")\n",
    "    outputs = model(**inputs)\n",
    "    answer_start_scores = outputs.start_logits\n",
    "    answer_end_scores = outputs.end_logits\n",
    "\n",
    "    # argmax를 이용해 context에서 응답의 시작일 확률이 가장 높은 토큰의 위치를 반환\n",
    "    answer_start = torch.argmax(answer_start_scores)\n",
    "    # argmax를 이용해 context에서 응답의 끝일 확률이 가장 높은 토큰의 위치를 반환\n",
    "    answer_end = torch.argmax(answer_end_scores) + 1\n",
    "\n",
    "    # 토큰화 결과로부터 input_ids만 추출\n",
    "    input_ids = inputs[\"input_ids\"].tolist()[0]\n",
    "\n",
    "    # input_ids에서 응답에 해당하는 id를 가져와 토큰으로 변환하고 다시 문자열로 변환\n",
    "    answer_tokens = tokenizer.convert_ids_to_tokens(input_ids[answer_start:answer_end])\n",
    "    answer = tokenizer.convert_tokens_to_string(answer_tokens)\n",
    "\n",
    "    # 스코어 출력\n",
    "    print(\"질문:\", question)\n",
    "    print(\"응답:\", answer)\n",
    "    print(\"시작 위치 스코어:\", float(torch.max(answer_start_scores)))\n",
    "    print(\"끝 위치 스코어:\", float(torch.max(answer_end_scores)))"
   ]
  },
  {
   "cell_type": "code",
   "execution_count": null,
   "id": "5982ae7c",
   "metadata": {},
   "outputs": [],
   "source": []
  },
  {
   "cell_type": "code",
   "execution_count": null,
   "id": "5f88b25e",
   "metadata": {},
   "outputs": [],
   "source": []
  }
 ],
 "metadata": {
  "kernelspec": {
   "display_name": "Python 3 (ipykernel)",
   "language": "python",
   "name": "python3"
  },
  "language_info": {
   "codemirror_mode": {
    "name": "ipython",
    "version": 3
   },
   "file_extension": ".py",
   "mimetype": "text/x-python",
   "name": "python",
   "nbconvert_exporter": "python",
   "pygments_lexer": "ipython3",
   "version": "3.10.9"
  }
 },
 "nbformat": 4,
 "nbformat_minor": 5
}
