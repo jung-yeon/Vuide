{
 "cells": [
  {
   "cell_type": "markdown",
   "id": "da3c48c2",
   "metadata": {},
   "source": [
    "# **TTS 모델 설계**"
   ]
  },
  {
   "cell_type": "markdown",
   "id": "79c21937",
   "metadata": {},
   "source": [
    "## 1. 라이브러리 다운로드"
   ]
  },
  {
   "cell_type": "code",
   "execution_count": 1,
   "id": "2e97c21a",
   "metadata": {},
   "outputs": [
    {
     "name": "stdout",
     "output_type": "stream",
     "text": [
      "Collecting googletrans\n",
      "  Downloading googletrans-3.0.0.tar.gz (17 kB)\n",
      "  Preparing metadata (setup.py): started\n",
      "  Preparing metadata (setup.py): finished with status 'done'\n",
      "Collecting httpx==0.13.3\n",
      "  Downloading httpx-0.13.3-py3-none-any.whl (55 kB)\n",
      "     ---------------------------------------- 55.1/55.1 kB 2.8 MB/s eta 0:00:00\n",
      "Requirement already satisfied: certifi in c:\\users\\gjaischool1\\anaconda3\\lib\\site-packages (from httpx==0.13.3->googletrans) (2023.7.22)\n",
      "Collecting rfc3986<2,>=1.3\n",
      "  Downloading rfc3986-1.5.0-py2.py3-none-any.whl (31 kB)\n",
      "Collecting hstspreload\n",
      "  Downloading hstspreload-2023.1.1-py3-none-any.whl (1.5 MB)\n",
      "     ---------------------------------------- 1.5/1.5 MB 1.5 MB/s eta 0:00:00\n",
      "Collecting chardet==3.*\n",
      "  Downloading chardet-3.0.4-py2.py3-none-any.whl (133 kB)\n",
      "     ------------------------------------ 133.4/133.4 kB 438.1 kB/s eta 0:00:00\n",
      "Collecting idna==2.*\n",
      "  Downloading idna-2.10-py2.py3-none-any.whl (58 kB)\n",
      "     -------------------------------------- 58.8/58.8 kB 516.7 kB/s eta 0:00:00\n",
      "Collecting httpcore==0.9.*\n",
      "  Downloading httpcore-0.9.1-py3-none-any.whl (42 kB)\n",
      "     -------------------------------------- 42.6/42.6 kB 344.7 kB/s eta 0:00:00\n",
      "Requirement already satisfied: sniffio in c:\\users\\gjaischool1\\anaconda3\\lib\\site-packages (from httpx==0.13.3->googletrans) (1.2.0)\n",
      "Collecting h2==3.*\n",
      "  Downloading h2-3.2.0-py2.py3-none-any.whl (65 kB)\n",
      "     -------------------------------------- 65.0/65.0 kB 869.9 kB/s eta 0:00:00\n",
      "Collecting h11<0.10,>=0.8\n",
      "  Downloading h11-0.9.0-py2.py3-none-any.whl (53 kB)\n",
      "     -------------------------------------- 53.6/53.6 kB 556.0 kB/s eta 0:00:00\n",
      "Collecting hpack<4,>=3.0\n",
      "  Downloading hpack-3.0.0-py2.py3-none-any.whl (38 kB)\n",
      "Collecting hyperframe<6,>=5.2.0\n",
      "  Downloading hyperframe-5.2.0-py2.py3-none-any.whl (12 kB)\n",
      "Building wheels for collected packages: googletrans\n",
      "  Building wheel for googletrans (setup.py): started\n",
      "  Building wheel for googletrans (setup.py): finished with status 'done'\n",
      "  Created wheel for googletrans: filename=googletrans-3.0.0-py3-none-any.whl size=15777 sha256=fd13831a87525011c3803cfd1d31592987d8dc26bb1312d70576064cff41cfb3\n",
      "  Stored in directory: c:\\users\\gjaischool1\\appdata\\local\\pip\\cache\\wheels\\cd\\ca\\87\\9a9849f1ceedf19652e3fc8a5bf2bd5b2e151b7b158c79bf5b\n",
      "Successfully built googletrans\n",
      "Installing collected packages: rfc3986, hyperframe, hpack, h11, chardet, idna, hstspreload, h2, httpcore, httpx, googletrans\n",
      "  Attempting uninstall: h11\n",
      "    Found existing installation: h11 0.14.0\n",
      "    Uninstalling h11-0.14.0:\n",
      "      Successfully uninstalled h11-0.14.0\n",
      "  Attempting uninstall: chardet\n",
      "    Found existing installation: chardet 4.0.0\n",
      "    Uninstalling chardet-4.0.0:\n",
      "      Successfully uninstalled chardet-4.0.0\n",
      "  Attempting uninstall: idna\n",
      "    Found existing installation: idna 3.4\n",
      "    Uninstalling idna-3.4:\n",
      "      Successfully uninstalled idna-3.4\n",
      "Successfully installed chardet-3.0.4 googletrans-3.0.0 h11-0.9.0 h2-3.2.0 hpack-3.0.0 hstspreload-2023.1.1 httpcore-0.9.1 httpx-0.13.3 hyperframe-5.2.0 idna-2.10 rfc3986-1.5.0\n"
     ]
    },
    {
     "name": "stderr",
     "output_type": "stream",
     "text": [
      "ERROR: pip's dependency resolver does not currently take into account all the packages that are installed. This behaviour is the source of the following dependency conflicts.\n",
      "conda-repo-cli 1.0.41 requires requests_mock, which is not installed.\n",
      "conda-repo-cli 1.0.41 requires clyent==1.2.1, but you have clyent 1.2.2 which is incompatible.\n",
      "conda-repo-cli 1.0.41 requires nbformat==5.4.0, but you have nbformat 5.7.0 which is incompatible.\n"
     ]
    },
    {
     "name": "stdout",
     "output_type": "stream",
     "text": [
      "Collecting googletrans==4.0.0-rc1\n",
      "  Downloading googletrans-4.0.0rc1.tar.gz (20 kB)\n",
      "  Preparing metadata (setup.py): started\n",
      "  Preparing metadata (setup.py): finished with status 'done'\n",
      "Requirement already satisfied: httpx==0.13.3 in c:\\users\\gjaischool1\\anaconda3\\lib\\site-packages (from googletrans==4.0.0-rc1) (0.13.3)\n",
      "Requirement already satisfied: chardet==3.* in c:\\users\\gjaischool1\\anaconda3\\lib\\site-packages (from httpx==0.13.3->googletrans==4.0.0-rc1) (3.0.4)\n",
      "Requirement already satisfied: rfc3986<2,>=1.3 in c:\\users\\gjaischool1\\anaconda3\\lib\\site-packages (from httpx==0.13.3->googletrans==4.0.0-rc1) (1.5.0)\n",
      "Requirement already satisfied: sniffio in c:\\users\\gjaischool1\\anaconda3\\lib\\site-packages (from httpx==0.13.3->googletrans==4.0.0-rc1) (1.2.0)\n",
      "Requirement already satisfied: httpcore==0.9.* in c:\\users\\gjaischool1\\anaconda3\\lib\\site-packages (from httpx==0.13.3->googletrans==4.0.0-rc1) (0.9.1)\n",
      "Requirement already satisfied: idna==2.* in c:\\users\\gjaischool1\\anaconda3\\lib\\site-packages (from httpx==0.13.3->googletrans==4.0.0-rc1) (2.10)\n",
      "Requirement already satisfied: hstspreload in c:\\users\\gjaischool1\\anaconda3\\lib\\site-packages (from httpx==0.13.3->googletrans==4.0.0-rc1) (2023.1.1)\n",
      "Requirement already satisfied: certifi in c:\\users\\gjaischool1\\anaconda3\\lib\\site-packages (from httpx==0.13.3->googletrans==4.0.0-rc1) (2023.7.22)\n",
      "Requirement already satisfied: h2==3.* in c:\\users\\gjaischool1\\anaconda3\\lib\\site-packages (from httpcore==0.9.*->httpx==0.13.3->googletrans==4.0.0-rc1) (3.2.0)\n",
      "Requirement already satisfied: h11<0.10,>=0.8 in c:\\users\\gjaischool1\\anaconda3\\lib\\site-packages (from httpcore==0.9.*->httpx==0.13.3->googletrans==4.0.0-rc1) (0.9.0)\n",
      "Requirement already satisfied: hyperframe<6,>=5.2.0 in c:\\users\\gjaischool1\\anaconda3\\lib\\site-packages (from h2==3.*->httpcore==0.9.*->httpx==0.13.3->googletrans==4.0.0-rc1) (5.2.0)\n",
      "Requirement already satisfied: hpack<4,>=3.0 in c:\\users\\gjaischool1\\anaconda3\\lib\\site-packages (from h2==3.*->httpcore==0.9.*->httpx==0.13.3->googletrans==4.0.0-rc1) (3.0.0)\n",
      "Building wheels for collected packages: googletrans\n",
      "  Building wheel for googletrans (setup.py): started\n",
      "  Building wheel for googletrans (setup.py): finished with status 'done'\n",
      "  Created wheel for googletrans: filename=googletrans-4.0.0rc1-py3-none-any.whl size=17461 sha256=c44482b7c04b3c9dca8a383d4e45498d0cfbfacc33d32c3e9e30675eaf989244\n",
      "  Stored in directory: c:\\users\\gjaischool1\\appdata\\local\\pip\\cache\\wheels\\54\\ca\\27\\562b6eac3a495887e4b44bac3a1efe925fa603d085ba89a21d\n",
      "Successfully built googletrans\n",
      "Installing collected packages: googletrans\n",
      "  Attempting uninstall: googletrans\n",
      "    Found existing installation: googletrans 3.0.0\n",
      "    Uninstalling googletrans-3.0.0:\n",
      "      Successfully uninstalled googletrans-3.0.0\n",
      "Successfully installed googletrans-4.0.0rc1\n",
      "Collecting bert-extractive-summarizer\n",
      "  Downloading bert_extractive_summarizer-0.10.1-py3-none-any.whl (25 kB)\n",
      "Requirement already satisfied: scikit-learn in c:\\users\\gjaischool1\\anaconda3\\lib\\site-packages (from bert-extractive-summarizer) (1.2.1)\n",
      "Requirement already satisfied: transformers in c:\\users\\gjaischool1\\anaconda3\\lib\\site-packages (from bert-extractive-summarizer) (4.24.0)\n",
      "Collecting spacy\n",
      "  Downloading spacy-3.7.2-cp310-cp310-win_amd64.whl (12.1 MB)\n",
      "     ---------------------------------------- 12.1/12.1 MB 5.2 MB/s eta 0:00:00\n",
      "Requirement already satisfied: threadpoolctl>=2.0.0 in c:\\users\\gjaischool1\\anaconda3\\lib\\site-packages (from scikit-learn->bert-extractive-summarizer) (2.2.0)\n",
      "Requirement already satisfied: joblib>=1.1.1 in c:\\users\\gjaischool1\\anaconda3\\lib\\site-packages (from scikit-learn->bert-extractive-summarizer) (1.1.1)\n",
      "Requirement already satisfied: scipy>=1.3.2 in c:\\users\\gjaischool1\\anaconda3\\lib\\site-packages (from scikit-learn->bert-extractive-summarizer) (1.10.0)\n",
      "Requirement already satisfied: numpy>=1.17.3 in c:\\users\\gjaischool1\\anaconda3\\lib\\site-packages (from scikit-learn->bert-extractive-summarizer) (1.23.5)\n",
      "Collecting pydantic!=1.8,!=1.8.1,<3.0.0,>=1.7.4\n",
      "  Downloading pydantic-2.5.1-py3-none-any.whl (381 kB)\n",
      "     -------------------------------------- 381.6/381.6 kB 7.9 MB/s eta 0:00:00\n",
      "Collecting spacy-legacy<3.1.0,>=3.0.11\n",
      "  Downloading spacy_legacy-3.0.12-py2.py3-none-any.whl (29 kB)\n",
      "Collecting langcodes<4.0.0,>=3.2.0\n",
      "  Downloading langcodes-3.3.0-py3-none-any.whl (181 kB)\n",
      "     ------------------------------------- 181.6/181.6 kB 11.4 MB/s eta 0:00:00\n",
      "Collecting murmurhash<1.1.0,>=0.28.0\n",
      "  Downloading murmurhash-1.0.10-cp310-cp310-win_amd64.whl (25 kB)\n",
      "Requirement already satisfied: jinja2 in c:\\users\\gjaischool1\\anaconda3\\lib\\site-packages (from spacy->bert-extractive-summarizer) (3.1.2)\n",
      "Collecting srsly<3.0.0,>=2.4.3\n",
      "  Downloading srsly-2.4.8-cp310-cp310-win_amd64.whl (481 kB)\n",
      "     -------------------------------------- 481.9/481.9 kB 6.0 MB/s eta 0:00:00\n",
      "Requirement already satisfied: smart-open<7.0.0,>=5.2.1 in c:\\users\\gjaischool1\\anaconda3\\lib\\site-packages (from spacy->bert-extractive-summarizer) (5.2.1)\n",
      "Requirement already satisfied: setuptools in c:\\users\\gjaischool1\\anaconda3\\lib\\site-packages (from spacy->bert-extractive-summarizer) (65.6.3)\n",
      "Collecting wasabi<1.2.0,>=0.9.1\n",
      "  Downloading wasabi-1.1.2-py3-none-any.whl (27 kB)\n",
      "Collecting preshed<3.1.0,>=3.0.2\n",
      "  Downloading preshed-3.0.9-cp310-cp310-win_amd64.whl (122 kB)\n",
      "     -------------------------------------- 122.2/122.2 kB 7.0 MB/s eta 0:00:00\n",
      "Requirement already satisfied: packaging>=20.0 in c:\\users\\gjaischool1\\anaconda3\\lib\\site-packages (from spacy->bert-extractive-summarizer) (22.0)\n",
      "Requirement already satisfied: tqdm<5.0.0,>=4.38.0 in c:\\users\\gjaischool1\\anaconda3\\lib\\site-packages (from spacy->bert-extractive-summarizer) (4.64.1)\n",
      "Collecting cymem<2.1.0,>=2.0.2\n",
      "  Downloading cymem-2.0.8-cp310-cp310-win_amd64.whl (39 kB)\n",
      "Collecting catalogue<2.1.0,>=2.0.6\n",
      "  Downloading catalogue-2.0.10-py3-none-any.whl (17 kB)\n",
      "Collecting weasel<0.4.0,>=0.1.0\n",
      "  Downloading weasel-0.3.4-py3-none-any.whl (50 kB)\n",
      "     ---------------------------------------- 50.1/50.1 kB 2.5 MB/s eta 0:00:00\n",
      "Collecting typer<0.10.0,>=0.3.0\n",
      "  Downloading typer-0.9.0-py3-none-any.whl (45 kB)\n",
      "     ---------------------------------------- 45.9/45.9 kB 2.4 MB/s eta 0:00:00\n",
      "Requirement already satisfied: requests<3.0.0,>=2.13.0 in c:\\users\\gjaischool1\\anaconda3\\lib\\site-packages (from spacy->bert-extractive-summarizer) (2.28.1)\n",
      "Collecting spacy-loggers<2.0.0,>=1.0.0\n",
      "  Downloading spacy_loggers-1.0.5-py3-none-any.whl (22 kB)\n",
      "Collecting thinc<8.3.0,>=8.1.8\n",
      "  Downloading thinc-8.2.1-cp310-cp310-win_amd64.whl (1.5 MB)\n",
      "     ---------------------------------------- 1.5/1.5 MB 7.9 MB/s eta 0:00:00\n",
      "Requirement already satisfied: pyyaml>=5.1 in c:\\users\\gjaischool1\\anaconda3\\lib\\site-packages (from transformers->bert-extractive-summarizer) (6.0)\n",
      "Requirement already satisfied: regex!=2019.12.17 in c:\\users\\gjaischool1\\anaconda3\\lib\\site-packages (from transformers->bert-extractive-summarizer) (2022.7.9)\n",
      "Requirement already satisfied: filelock in c:\\users\\gjaischool1\\anaconda3\\lib\\site-packages (from transformers->bert-extractive-summarizer) (3.9.0)\n",
      "Requirement already satisfied: tokenizers!=0.11.3,<0.14,>=0.11.1 in c:\\users\\gjaischool1\\anaconda3\\lib\\site-packages (from transformers->bert-extractive-summarizer) (0.11.4)\n",
      "Requirement already satisfied: huggingface-hub<1.0,>=0.10.0 in c:\\users\\gjaischool1\\anaconda3\\lib\\site-packages (from transformers->bert-extractive-summarizer) (0.10.1)\n",
      "Requirement already satisfied: typing-extensions>=3.7.4.3 in c:\\users\\gjaischool1\\anaconda3\\lib\\site-packages (from huggingface-hub<1.0,>=0.10.0->transformers->bert-extractive-summarizer) (4.4.0)\n",
      "Collecting annotated-types>=0.4.0\n",
      "  Downloading annotated_types-0.6.0-py3-none-any.whl (12 kB)\n",
      "Collecting typing-extensions>=3.7.4.3\n",
      "  Downloading typing_extensions-4.8.0-py3-none-any.whl (31 kB)\n",
      "Collecting pydantic-core==2.14.3\n",
      "  Downloading pydantic_core-2.14.3-cp310-none-win_amd64.whl (1.9 MB)\n",
      "     ---------------------------------------- 1.9/1.9 MB 6.0 MB/s eta 0:00:00\n",
      "Requirement already satisfied: urllib3<1.27,>=1.21.1 in c:\\users\\gjaischool1\\anaconda3\\lib\\site-packages (from requests<3.0.0,>=2.13.0->spacy->bert-extractive-summarizer) (1.26.14)\n",
      "Requirement already satisfied: idna<4,>=2.5 in c:\\users\\gjaischool1\\anaconda3\\lib\\site-packages (from requests<3.0.0,>=2.13.0->spacy->bert-extractive-summarizer) (2.10)\n",
      "Requirement already satisfied: charset-normalizer<3,>=2 in c:\\users\\gjaischool1\\anaconda3\\lib\\site-packages (from requests<3.0.0,>=2.13.0->spacy->bert-extractive-summarizer) (2.0.4)\n",
      "Requirement already satisfied: certifi>=2017.4.17 in c:\\users\\gjaischool1\\anaconda3\\lib\\site-packages (from requests<3.0.0,>=2.13.0->spacy->bert-extractive-summarizer) (2023.7.22)\n",
      "Collecting confection<1.0.0,>=0.0.1\n",
      "  Downloading confection-0.1.3-py3-none-any.whl (34 kB)\n",
      "Collecting blis<0.8.0,>=0.7.8\n",
      "  Downloading blis-0.7.11-cp310-cp310-win_amd64.whl (6.6 MB)\n",
      "     ---------------------------------------- 6.6/6.6 MB 7.8 MB/s eta 0:00:00\n",
      "Requirement already satisfied: colorama in c:\\users\\gjaischool1\\anaconda3\\lib\\site-packages (from tqdm<5.0.0,>=4.38.0->spacy->bert-extractive-summarizer) (0.4.6)\n",
      "Requirement already satisfied: click<9.0.0,>=7.1.1 in c:\\users\\gjaischool1\\anaconda3\\lib\\site-packages (from typer<0.10.0,>=0.3.0->spacy->bert-extractive-summarizer) (8.0.4)\n",
      "Collecting cloudpathlib<0.17.0,>=0.7.0\n",
      "  Downloading cloudpathlib-0.16.0-py3-none-any.whl (45 kB)\n",
      "     ---------------------------------------- 45.0/45.0 kB 2.2 MB/s eta 0:00:00\n",
      "Requirement already satisfied: MarkupSafe>=2.0 in c:\\users\\gjaischool1\\anaconda3\\lib\\site-packages (from jinja2->spacy->bert-extractive-summarizer) (2.1.1)\n",
      "Installing collected packages: cymem, wasabi, typing-extensions, spacy-loggers, spacy-legacy, murmurhash, langcodes, catalogue, blis, annotated-types, typer, srsly, pydantic-core, preshed, cloudpathlib, pydantic, confection, weasel, thinc, spacy, bert-extractive-summarizer\n",
      "  Attempting uninstall: typing-extensions\n",
      "    Found existing installation: typing_extensions 4.4.0\n",
      "    Uninstalling typing_extensions-4.4.0:\n",
      "      Successfully uninstalled typing_extensions-4.4.0\n",
      "Successfully installed annotated-types-0.6.0 bert-extractive-summarizer-0.10.1 blis-0.7.11 catalogue-2.0.10 cloudpathlib-0.16.0 confection-0.1.3 cymem-2.0.8 langcodes-3.3.0 murmurhash-1.0.10 preshed-3.0.9 pydantic-2.5.1 pydantic-core-2.14.3 spacy-3.7.2 spacy-legacy-3.0.12 spacy-loggers-1.0.5 srsly-2.4.8 thinc-8.2.1 typer-0.9.0 typing-extensions-4.8.0 wasabi-1.1.2 weasel-0.3.4\n"
     ]
    },
    {
     "name": "stdout",
     "output_type": "stream",
     "text": [
      "Collecting pydub\n",
      "  Downloading pydub-0.25.1-py2.py3-none-any.whl (32 kB)\n",
      "Installing collected packages: pydub\n",
      "Successfully installed pydub-0.25.1\n",
      "Collecting gtts\n",
      "  Using cached gTTS-2.4.0-py3-none-any.whl (29 kB)\n",
      "Requirement already satisfied: click<8.2,>=7.1 in c:\\users\\gjaischool1\\anaconda3\\lib\\site-packages (from gtts) (8.0.4)\n",
      "Requirement already satisfied: requests<3,>=2.27 in c:\\users\\gjaischool1\\anaconda3\\lib\\site-packages (from gtts) (2.28.1)\n",
      "Requirement already satisfied: colorama in c:\\users\\gjaischool1\\anaconda3\\lib\\site-packages (from click<8.2,>=7.1->gtts) (0.4.6)\n",
      "Requirement already satisfied: urllib3<1.27,>=1.21.1 in c:\\users\\gjaischool1\\anaconda3\\lib\\site-packages (from requests<3,>=2.27->gtts) (1.26.14)\n",
      "Requirement already satisfied: charset-normalizer<3,>=2 in c:\\users\\gjaischool1\\anaconda3\\lib\\site-packages (from requests<3,>=2.27->gtts) (2.0.4)\n",
      "Requirement already satisfied: certifi>=2017.4.17 in c:\\users\\gjaischool1\\anaconda3\\lib\\site-packages (from requests<3,>=2.27->gtts) (2023.7.22)\n",
      "Requirement already satisfied: idna<4,>=2.5 in c:\\users\\gjaischool1\\anaconda3\\lib\\site-packages (from requests<3,>=2.27->gtts) (2.10)\n",
      "Installing collected packages: gtts\n",
      "Successfully installed gtts-2.4.0\n"
     ]
    }
   ],
   "source": [
    "!pip install googletrans\n",
    "!pip install --upgrade googletrans==4.0.0-rc1\n",
    "!pip install bert-extractive-summarizer\n",
    "!pip install pydub\n",
    "!pip install gtts"
   ]
  },
  {
   "cell_type": "markdown",
   "id": "aeac8631",
   "metadata": {},
   "source": [
    "## 2. 라이브러리 불러오기"
   ]
  },
  {
   "cell_type": "code",
   "execution_count": 1,
   "id": "78036c60",
   "metadata": {},
   "outputs": [],
   "source": [
    "from googletrans import Translator\n",
    "from summarizer import Summarizer\n",
    "from pydub import AudioSegment\n",
    "from gtts import gTTS\n",
    "import re\n",
    "import IPython"
   ]
  },
  {
   "cell_type": "markdown",
   "id": "d9b1c956",
   "metadata": {},
   "source": [
    "## 3. 함수 정의"
   ]
  },
  {
   "cell_type": "code",
   "execution_count": 2,
   "id": "32f9e097",
   "metadata": {},
   "outputs": [],
   "source": [
    "# 1. 문장 전처리 함수\n",
    "def preprocess_sentence(sentence):\n",
    "    cleaned_sentence = re.sub(r'[^\\w\\s.,?!ㄱ-ㅎㅏ-ㅣ가-힣]', '', sentence)\n",
    "    return cleaned_sentence\n",
    "\n",
    "# 2. 번역 함수\n",
    "def google_translate_eng(text):\n",
    "    translator = Translator()\n",
    "    result = translator.translate(text, src='ko', dest='en').text\n",
    "    return result\n",
    "\n",
    "def google_translate_kor(text):\n",
    "    translator = Translator()\n",
    "    result = translator.translate(text, src='en', dest='ko').text\n",
    "    return result\n",
    "\n",
    "# 3. 요약 함수\n",
    "def extractive_summary(text, ratio):\n",
    "    summarizer = Summarizer()\n",
    "    summary = summarizer(text, ratio)\n",
    "    return summary\n",
    "\n",
    "# 4. 오디오 속도 조절 함수\n",
    "def speed_up_audio(input_path, output_path, speed):\n",
    "    sound = AudioSegment.from_mp3(input_path)\n",
    "    faster_sound = sound.speedup(playback_speed=speed)\n",
    "    faster_sound.export(output_path, format=\"mp3\")\n",
    "\n",
    "# 5. 오디오 볼륨 조절 함수\n",
    "def adjust_volume(input_path, output_path, volume_change):\n",
    "    sound = AudioSegment.from_mp3(input_path)\n",
    "    adjusted_sound = sound + volume_change\n",
    "    adjusted_sound.export(output_path, format=\"mp3\")"
   ]
  },
  {
   "cell_type": "markdown",
   "id": "97ac81fa",
   "metadata": {},
   "source": [
    "## 4. 카카오톡 메시지 내용 전처리"
   ]
  },
  {
   "cell_type": "code",
   "execution_count": 6,
   "id": "6759f343",
   "metadata": {},
   "outputs": [],
   "source": [
    "user_name = \"권준오\"\n",
    "kko_msg = \"\"\"안녕하세요\"\"\""
   ]
  },
  {
   "cell_type": "markdown",
   "id": "5565b1bf",
   "metadata": {},
   "source": [
    "## 5. 기능 구현1 (문장 요약 단위 조절)"
   ]
  },
  {
   "cell_type": "code",
   "execution_count": 7,
   "id": "5f7db817",
   "metadata": {},
   "outputs": [],
   "source": [
    "# 문장 요약 단위 조절\n",
    "ratio = 0.2 # 20%로 문장 요약"
   ]
  },
  {
   "cell_type": "markdown",
   "id": "1e12f6b4",
   "metadata": {},
   "source": [
    "## 6. 요약 문장 출력 및 확인"
   ]
  },
  {
   "cell_type": "code",
   "execution_count": 8,
   "id": "20924e19",
   "metadata": {},
   "outputs": [
    {
     "ename": "TypeError",
     "evalue": "the JSON object must be str, bytes or bytearray, not NoneType",
     "output_type": "error",
     "traceback": [
      "\u001b[1;31m---------------------------------------------------------------------------\u001b[0m",
      "\u001b[1;31mTypeError\u001b[0m                                 Traceback (most recent call last)",
      "Cell \u001b[1;32mIn[8], line 11\u001b[0m\n\u001b[0;32m      8\u001b[0m summary_eng_text \u001b[38;5;241m=\u001b[39m extractive_summary(translated_text, ratio)\n\u001b[0;32m     10\u001b[0m \u001b[38;5;66;03m# 문장을 다시 번역\u001b[39;00m\n\u001b[1;32m---> 11\u001b[0m summary_kor_text \u001b[38;5;241m=\u001b[39m \u001b[43mgoogle_translate_kor\u001b[49m\u001b[43m(\u001b[49m\u001b[43msummary_eng_text\u001b[49m\u001b[43m)\u001b[49m\n\u001b[0;32m     13\u001b[0m \u001b[38;5;66;03m# 결과 출력\u001b[39;00m\n\u001b[0;32m     14\u001b[0m \u001b[38;5;28mprint\u001b[39m(\u001b[38;5;124m\"\u001b[39m\u001b[38;5;124m전처리 전 입력받은 텍스트 길이:\u001b[39m\u001b[38;5;124m\"\u001b[39m, \u001b[38;5;28mlen\u001b[39m(kko_msg), \u001b[38;5;124m\"\u001b[39m\u001b[38;5;130;01m\\n\u001b[39;00m\u001b[38;5;124m\"\u001b[39m,\u001b[38;5;124m\"\u001b[39m\u001b[38;5;124m한글 텍스트:\u001b[39m\u001b[38;5;124m\"\u001b[39m, kko_msg, \u001b[38;5;124m'\u001b[39m\u001b[38;5;130;01m\\n\u001b[39;00m\u001b[38;5;124m'\u001b[39m)\n",
      "Cell \u001b[1;32mIn[2], line 14\u001b[0m, in \u001b[0;36mgoogle_translate_kor\u001b[1;34m(text)\u001b[0m\n\u001b[0;32m     12\u001b[0m \u001b[38;5;28;01mdef\u001b[39;00m \u001b[38;5;21mgoogle_translate_kor\u001b[39m(text):\n\u001b[0;32m     13\u001b[0m     translator \u001b[38;5;241m=\u001b[39m Translator()\n\u001b[1;32m---> 14\u001b[0m     result \u001b[38;5;241m=\u001b[39m \u001b[43mtranslator\u001b[49m\u001b[38;5;241;43m.\u001b[39;49m\u001b[43mtranslate\u001b[49m\u001b[43m(\u001b[49m\u001b[43mtext\u001b[49m\u001b[43m,\u001b[49m\u001b[43m \u001b[49m\u001b[43msrc\u001b[49m\u001b[38;5;241;43m=\u001b[39;49m\u001b[38;5;124;43m'\u001b[39;49m\u001b[38;5;124;43men\u001b[39;49m\u001b[38;5;124;43m'\u001b[39;49m\u001b[43m,\u001b[49m\u001b[43m \u001b[49m\u001b[43mdest\u001b[49m\u001b[38;5;241;43m=\u001b[39;49m\u001b[38;5;124;43m'\u001b[39;49m\u001b[38;5;124;43mko\u001b[39;49m\u001b[38;5;124;43m'\u001b[39;49m\u001b[43m)\u001b[49m\u001b[38;5;241m.\u001b[39mtext\n\u001b[0;32m     15\u001b[0m     \u001b[38;5;28;01mreturn\u001b[39;00m result\n",
      "File \u001b[1;32m~\\anaconda3\\lib\\site-packages\\googletrans\\client.py:219\u001b[0m, in \u001b[0;36mTranslator.translate\u001b[1;34m(self, text, dest, src)\u001b[0m\n\u001b[0;32m    216\u001b[0m         \u001b[38;5;28;01mbreak\u001b[39;00m\n\u001b[0;32m    218\u001b[0m data \u001b[38;5;241m=\u001b[39m json\u001b[38;5;241m.\u001b[39mloads(resp)\n\u001b[1;32m--> 219\u001b[0m parsed \u001b[38;5;241m=\u001b[39m \u001b[43mjson\u001b[49m\u001b[38;5;241;43m.\u001b[39;49m\u001b[43mloads\u001b[49m\u001b[43m(\u001b[49m\u001b[43mdata\u001b[49m\u001b[43m[\u001b[49m\u001b[38;5;241;43m0\u001b[39;49m\u001b[43m]\u001b[49m\u001b[43m[\u001b[49m\u001b[38;5;241;43m2\u001b[39;49m\u001b[43m]\u001b[49m\u001b[43m)\u001b[49m\n\u001b[0;32m    220\u001b[0m \u001b[38;5;66;03m# not sure\u001b[39;00m\n\u001b[0;32m    221\u001b[0m should_spacing \u001b[38;5;241m=\u001b[39m parsed[\u001b[38;5;241m1\u001b[39m][\u001b[38;5;241m0\u001b[39m][\u001b[38;5;241m0\u001b[39m][\u001b[38;5;241m3\u001b[39m]\n",
      "File \u001b[1;32m~\\anaconda3\\lib\\json\\__init__.py:339\u001b[0m, in \u001b[0;36mloads\u001b[1;34m(s, cls, object_hook, parse_float, parse_int, parse_constant, object_pairs_hook, **kw)\u001b[0m\n\u001b[0;32m    337\u001b[0m \u001b[38;5;28;01melse\u001b[39;00m:\n\u001b[0;32m    338\u001b[0m     \u001b[38;5;28;01mif\u001b[39;00m \u001b[38;5;129;01mnot\u001b[39;00m \u001b[38;5;28misinstance\u001b[39m(s, (\u001b[38;5;28mbytes\u001b[39m, \u001b[38;5;28mbytearray\u001b[39m)):\n\u001b[1;32m--> 339\u001b[0m         \u001b[38;5;28;01mraise\u001b[39;00m \u001b[38;5;167;01mTypeError\u001b[39;00m(\u001b[38;5;124mf\u001b[39m\u001b[38;5;124m'\u001b[39m\u001b[38;5;124mthe JSON object must be str, bytes or bytearray, \u001b[39m\u001b[38;5;124m'\u001b[39m\n\u001b[0;32m    340\u001b[0m                         \u001b[38;5;124mf\u001b[39m\u001b[38;5;124m'\u001b[39m\u001b[38;5;124mnot \u001b[39m\u001b[38;5;132;01m{\u001b[39;00ms\u001b[38;5;241m.\u001b[39m\u001b[38;5;18m__class__\u001b[39m\u001b[38;5;241m.\u001b[39m\u001b[38;5;18m__name__\u001b[39m\u001b[38;5;132;01m}\u001b[39;00m\u001b[38;5;124m'\u001b[39m)\n\u001b[0;32m    341\u001b[0m     s \u001b[38;5;241m=\u001b[39m s\u001b[38;5;241m.\u001b[39mdecode(detect_encoding(s), \u001b[38;5;124m'\u001b[39m\u001b[38;5;124msurrogatepass\u001b[39m\u001b[38;5;124m'\u001b[39m)\n\u001b[0;32m    343\u001b[0m \u001b[38;5;28;01mif\u001b[39;00m (\u001b[38;5;28mcls\u001b[39m \u001b[38;5;129;01mis\u001b[39;00m \u001b[38;5;28;01mNone\u001b[39;00m \u001b[38;5;129;01mand\u001b[39;00m object_hook \u001b[38;5;129;01mis\u001b[39;00m \u001b[38;5;28;01mNone\u001b[39;00m \u001b[38;5;129;01mand\u001b[39;00m\n\u001b[0;32m    344\u001b[0m         parse_int \u001b[38;5;129;01mis\u001b[39;00m \u001b[38;5;28;01mNone\u001b[39;00m \u001b[38;5;129;01mand\u001b[39;00m parse_float \u001b[38;5;129;01mis\u001b[39;00m \u001b[38;5;28;01mNone\u001b[39;00m \u001b[38;5;129;01mand\u001b[39;00m\n\u001b[0;32m    345\u001b[0m         parse_constant \u001b[38;5;129;01mis\u001b[39;00m \u001b[38;5;28;01mNone\u001b[39;00m \u001b[38;5;129;01mand\u001b[39;00m object_pairs_hook \u001b[38;5;129;01mis\u001b[39;00m \u001b[38;5;28;01mNone\u001b[39;00m \u001b[38;5;129;01mand\u001b[39;00m \u001b[38;5;129;01mnot\u001b[39;00m kw):\n",
      "\u001b[1;31mTypeError\u001b[0m: the JSON object must be str, bytes or bytearray, not NoneType"
     ]
    }
   ],
   "source": [
    "# 전처리 적용\n",
    "cleaned_msg = preprocess_sentence(kko_msg)\n",
    "\n",
    "# 요약처리를 위한 받아온 메시지를 번역\n",
    "translated_text = google_translate_eng(cleaned_msg)\n",
    "\n",
    "# 메시지 요약\n",
    "summary_eng_text = extractive_summary(translated_text, ratio)\n",
    "\n",
    "# 문장을 다시 번역\n",
    "summary_kor_text = google_translate_kor(summary_eng_text)\n",
    "\n",
    "# 결과 출력\n",
    "print(\"전처리 전 입력받은 텍스트 길이:\", len(kko_msg), \"\\n\",\"한글 텍스트:\", kko_msg, '\\n')\n",
    "print(\"전처리 후 입력받은 텍스트 길이:\", len(kko_msg), \"\\n\",\"한글 텍스트:\", cleaned_msg, '\\n')\n",
    "print(\"영어 문장으로 번역 후 길이\", len(translated_text), \"\\n\", \"영어 번역:\", translated_text, '\\n')\n",
    "print(\"요약 후 영어 텍스트 길이:\", len(summary_eng_text), \"\\n\", \"요약 후 영어 텍스트:\", summary_eng_text, '\\n')\n",
    "print(\"요약 후 한글 텍스트 길이:\", len(summary_kor_text), \"\\n\", \"요약 후 한글 텍스트:\", summary_kor_text)"
   ]
  },
  {
   "cell_type": "markdown",
   "id": "61af9e1c",
   "metadata": {},
   "source": [
    "## 7. 기능 구현2 (TTS의 속도 및 음량 조절)"
   ]
  },
  {
   "cell_type": "code",
   "execution_count": 7,
   "id": "b46c6be6",
   "metadata": {},
   "outputs": [],
   "source": [
    "# TTS의 말하기 속도 조절\n",
    "speed = 1.5\n",
    "\n",
    "# TTS의 음성 크기 조절\n",
    "volume = 1"
   ]
  },
  {
   "cell_type": "markdown",
   "id": "a0ae2112",
   "metadata": {},
   "source": [
    "## 8. TTS 문장 설계"
   ]
  },
  {
   "cell_type": "code",
   "execution_count": 8,
   "id": "a6e46109",
   "metadata": {},
   "outputs": [
    {
     "name": "stdout",
     "output_type": "stream",
     "text": [
      "소개 내용: \n",
      "카카오톡의 알림입니다.\n",
      "권준오 \n",
      "\n",
      "문자 내용: \n",
      "오늘은 달에서 우주 미사일 비행의 날입니다! 그래서 태양은 녹색으로 빛납니다.지구를 보면 고양이가 별빛을 먹는 것을 볼 수 있습니다.\n",
      " \n",
      "\n",
      "마무리 언급: \n",
      "라고 메시지가 도착했습니다. \n",
      "\n"
     ]
    }
   ],
   "source": [
    "vuides = str(\"\\n\") + \"카카오톡의 알림입니다.\" + str(\"\\n\")\n",
    "call_name = user_name\n",
    "intro = vuides + call_name\n",
    "print(\"소개 내용:\", intro, \"\\n\")\n",
    "\n",
    "send_msg = str(\"\\n\") + summary_kor_text + str(\"\\n\")\n",
    "print(\"문자 내용:\", send_msg, \"\\n\")\n",
    "\n",
    "report = str(\"\\n\") + \"라고 메시지가 도착했습니다.\"\n",
    "print(\"마무리 언급:\", report, \"\\n\")"
   ]
  },
  {
   "cell_type": "markdown",
   "id": "f5a7d672",
   "metadata": {},
   "source": [
    "## 9. TTS 출력"
   ]
  },
  {
   "cell_type": "code",
   "execution_count": 9,
   "id": "6397a152",
   "metadata": {},
   "outputs": [
    {
     "data": {
      "text/html": [
       "\n",
       "                <audio  controls=\"controls\" >\n",
       "                    <source src=\"data:audio/mpeg;base64,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\" type=\"audio/mpeg\" />\n",
       "                    Your browser does not support the audio element.\n",
       "                </audio>\n",
       "              "
      ],
      "text/plain": [
       "<IPython.lib.display.Audio object>"
      ]
     },
     "execution_count": 9,
     "metadata": {},
     "output_type": "execute_result"
    }
   ],
   "source": [
    "# 음성으로 변환\n",
    "tts_intro = gTTS(text=intro, lang='ko')\n",
    "tts_intro.save('intro.mp3')\n",
    "\n",
    "tts_msg = gTTS(text=send_msg, lang='ko')\n",
    "tts_msg.save('msg.mp3')\n",
    "\n",
    "tts_report = gTTS(text=report, lang='ko')\n",
    "tts_report.save('report.mp3')\n",
    "\n",
    "# 속도 조절\n",
    "speed_up_audio('intro.mp3', 'intro_audio.mp3', speed=1.2)\n",
    "speed_up_audio('msg.mp3', 'msg_audio.mp3', speed=speed)\n",
    "speed_up_audio('report.mp3', 'report_audio.mp3', speed=1.2)\n",
    "\n",
    "# 음성 파일 불러오기\n",
    "intro_audio = AudioSegment.from_mp3(\"intro_audio.mp3\")\n",
    "msg_audio = AudioSegment.from_mp3(\"msg_audio.mp3\")\n",
    "report_audio = AudioSegment.from_mp3(\"report_audio.mp3\")\n",
    "\n",
    "# 음성 파일 병합\n",
    "result_audio = intro_audio + msg_audio + report_audio\n",
    "\n",
    "# 병합된 음성 파일 저장\n",
    "result_audio.export(\"result.mp3\", format=\"mp3\")\n",
    "\n",
    "# 음량 조절\n",
    "adjust_volume('result.mp3', 'result_adjusted_volume.mp3', volume)\n",
    "\n",
    "# 결과 출력\n",
    "IPython.display.Audio('result_adjusted_volume.mp3')"
   ]
  },
  {
   "cell_type": "markdown",
   "id": "358d0c0f",
   "metadata": {},
   "source": [
    "---"
   ]
  },
  {
   "cell_type": "markdown",
   "id": "f1a4c9df",
   "metadata": {},
   "source": [
    "# **STT 모델 설계**"
   ]
  },
  {
   "cell_type": "markdown",
   "id": "e0938aab",
   "metadata": {},
   "source": [
    "## 1. 라이브러리 다운로드"
   ]
  },
  {
   "cell_type": "code",
   "execution_count": 1,
   "id": "9c06f541",
   "metadata": {},
   "outputs": [
    {
     "name": "stdout",
     "output_type": "stream",
     "text": [
      "Requirement already satisfied: pyaudio in c:\\users\\gjaischool1\\anaconda3\\lib\\site-packages (0.2.14)\n",
      "Requirement already satisfied: SpeechRecognition in c:\\users\\gjaischool1\\anaconda3\\lib\\site-packages (3.10.0)\n",
      "Requirement already satisfied: requests>=2.26.0 in c:\\users\\gjaischool1\\anaconda3\\lib\\site-packages (from SpeechRecognition) (2.28.1)\n",
      "Requirement already satisfied: charset-normalizer<3,>=2 in c:\\users\\gjaischool1\\anaconda3\\lib\\site-packages (from requests>=2.26.0->SpeechRecognition) (2.0.4)\n",
      "Requirement already satisfied: certifi>=2017.4.17 in c:\\users\\gjaischool1\\anaconda3\\lib\\site-packages (from requests>=2.26.0->SpeechRecognition) (2023.7.22)\n",
      "Requirement already satisfied: urllib3<1.27,>=1.21.1 in c:\\users\\gjaischool1\\anaconda3\\lib\\site-packages (from requests>=2.26.0->SpeechRecognition) (1.26.14)\n",
      "Requirement already satisfied: idna<4,>=2.5 in c:\\users\\gjaischool1\\anaconda3\\lib\\site-packages (from requests>=2.26.0->SpeechRecognition) (2.10)\n",
      "Requirement already satisfied: SpeechRecognition in c:\\users\\gjaischool1\\anaconda3\\lib\\site-packages (3.10.0)\n",
      "Requirement already satisfied: requests>=2.26.0 in c:\\users\\gjaischool1\\anaconda3\\lib\\site-packages (from SpeechRecognition) (2.28.1)\n",
      "Requirement already satisfied: certifi>=2017.4.17 in c:\\users\\gjaischool1\\anaconda3\\lib\\site-packages (from requests>=2.26.0->SpeechRecognition) (2023.7.22)\n",
      "Requirement already satisfied: charset-normalizer<3,>=2 in c:\\users\\gjaischool1\\anaconda3\\lib\\site-packages (from requests>=2.26.0->SpeechRecognition) (2.0.4)\n",
      "Requirement already satisfied: idna<4,>=2.5 in c:\\users\\gjaischool1\\anaconda3\\lib\\site-packages (from requests>=2.26.0->SpeechRecognition) (2.10)\n",
      "Requirement already satisfied: urllib3<1.27,>=1.21.1 in c:\\users\\gjaischool1\\anaconda3\\lib\\site-packages (from requests>=2.26.0->SpeechRecognition) (1.26.14)\n",
      "Requirement already satisfied: pyowm in c:\\users\\gjaischool1\\anaconda3\\lib\\site-packages (3.3.0)\n",
      "Requirement already satisfied: PySocks<2,>=1.7.1 in c:\\users\\gjaischool1\\anaconda3\\lib\\site-packages (from pyowm) (1.7.1)\n",
      "Requirement already satisfied: geojson<3,>=2.3.0 in c:\\users\\gjaischool1\\anaconda3\\lib\\site-packages (from pyowm) (2.5.0)\n",
      "Requirement already satisfied: requests<3,>=2.20.0 in c:\\users\\gjaischool1\\anaconda3\\lib\\site-packages (from pyowm) (2.28.1)\n",
      "Requirement already satisfied: idna<4,>=2.5 in c:\\users\\gjaischool1\\anaconda3\\lib\\site-packages (from requests<3,>=2.20.0->pyowm) (2.10)\n",
      "Requirement already satisfied: urllib3<1.27,>=1.21.1 in c:\\users\\gjaischool1\\anaconda3\\lib\\site-packages (from requests<3,>=2.20.0->pyowm) (1.26.14)\n",
      "Requirement already satisfied: certifi>=2017.4.17 in c:\\users\\gjaischool1\\anaconda3\\lib\\site-packages (from requests<3,>=2.20.0->pyowm) (2023.7.22)\n",
      "Requirement already satisfied: charset-normalizer<3,>=2 in c:\\users\\gjaischool1\\anaconda3\\lib\\site-packages (from requests<3,>=2.20.0->pyowm) (2.0.4)\n"
     ]
    }
   ],
   "source": [
    "!pip install pyaudio\n",
    "!pip install SpeechRecognition\n",
    "!pip install SpeechRecognition\n",
    "!pip install pyowm"
   ]
  },
  {
   "cell_type": "markdown",
   "id": "e8958f0c",
   "metadata": {},
   "source": [
    "## 2. 라이브러리 다운로드"
   ]
  },
  {
   "cell_type": "code",
   "execution_count": 11,
   "id": "91c7b450",
   "metadata": {},
   "outputs": [],
   "source": [
    "import speech_recognition as sr\n",
    "from datetime import datetime\n",
    "import pyowm"
   ]
  },
  {
   "cell_type": "markdown",
   "id": "a9aabf13",
   "metadata": {},
   "source": [
    "## 3. 기능 구현"
   ]
  },
  {
   "cell_type": "code",
   "execution_count": 21,
   "id": "32b3405f",
   "metadata": {},
   "outputs": [
    {
     "name": "stdout",
     "output_type": "stream",
     "text": [
      "말씀해주세요...\n",
      "인식된 텍스트: 현재 시간\n",
      "현재 시각: 14:58:27\n"
     ]
    }
   ],
   "source": [
    "import speech_recognition as sr\n",
    "from datetime import datetime\n",
    "\n",
    "def speech_to_text():\n",
    "    recognizer = sr.Recognizer()\n",
    "    with sr.Microphone() as source:\n",
    "        print(\"말씀해주세요...\")\n",
    "        recognizer.adjust_for_ambient_noise(source)\n",
    "        audio = recognizer.listen(source)\n",
    "\n",
    "    try:\n",
    "        text = recognizer.recognize_google(audio, language=\"ko-KR\")\n",
    "        print(f\"인식된 텍스트: {text}\")\n",
    "        return text\n",
    "    except sr.UnknownValueError:\n",
    "        print(\"음성을 인식할 수 없습니다.\")\n",
    "        return None\n",
    "    except sr.RequestError as e:\n",
    "        print(f\"음성 인식 서비스에 오류가 발생했습니다. 에러: {e}\")\n",
    "        return None\n",
    "\n",
    "def get_current_time():\n",
    "    now = datetime.now()\n",
    "    current_time = now.strftime(\"%H:%M:%S\")\n",
    "    print(f\"현재 시각: {current_time}\")\n",
    "    return current_time\n",
    "\n",
    "# 테스트\n",
    "spoken_text = speech_to_text()\n",
    "\n",
    "# \"현재 시각\" 이라는 음성 명령을 받았을 때 현재 시각을 알려줌\n",
    "if spoken_text and \"현재 시각\" and \"현재 시간\" in spoken_text:\n",
    "    current_time = get_current_time()\n",
    "    \n"
   ]
  },
  {
   "cell_type": "markdown",
   "id": "1012d3d2",
   "metadata": {},
   "source": [
    "## 4. 기능 구현"
   ]
  },
  {
   "cell_type": "code",
   "execution_count": 3,
   "id": "699fdb98",
   "metadata": {},
   "outputs": [
    {
     "name": "stdout",
     "output_type": "stream",
     "text": [
      "말씀해주세요...\n",
      "인식된 텍스트: 날씨\n",
      "현재 날씨: Rain, 온도: 5.66℃\n"
     ]
    }
   ],
   "source": []
  },
  {
   "cell_type": "code",
   "execution_count": 1,
   "id": "013b77bd",
   "metadata": {},
   "outputs": [
    {
     "name": "stdout",
     "output_type": "stream",
     "text": [
      "말씀해주세요...\n",
      "음성을 인식할 수 없습니다.\n"
     ]
    }
   ],
   "source": [
    "def speech_to_text():\n",
    "    recognizer = sr.Recognizer()\n",
    "    with sr.Microphone() as source:\n",
    "        print(\"말씀해주세요...\")\n",
    "        recognizer.adjust_for_ambient_noise(source)\n",
    "        audio = recognizer.listen(source)\n",
    "\n",
    "    try:\n",
    "        text = recognizer.recognize_google(audio, language=\"ko-KR\")\n",
    "        print(f\"인식된 텍스트: {text}\")\n",
    "        return text\n",
    "    except sr.UnknownValueError:\n",
    "        print(\"음성을 인식할 수 없습니다.\")\n",
    "        return None\n",
    "    except sr.RequestError as e:\n",
    "        print(f\"음성 인식 서비스에 오류가 발생했습니다. 에러: {e}\")\n",
    "        return None\n",
    "\n",
    "def get_current_time():\n",
    "    now = datetime.now()\n",
    "    current_time = now.strftime(\"%H:%M:%S\")\n",
    "    print(f\"현재 시각: {current_time}\")\n",
    "    return current_time\n",
    "\n",
    "\n",
    "def get_weather():\n",
    "    owm = pyowm.OWM('3bd219715fddd2551654637f3df641db')  # 여기에 자신의 OpenWeatherMap API 키를 넣어주세요.\n",
    "    \n",
    "    observation = owm.weather_manager().weather_at_place(\"Busan,kr\")\n",
    "    w = observation.weather\n",
    "\n",
    "    temperature = w.temperature('celsius')['temp']\n",
    "    status = w.status\n",
    "\n",
    "    print(f\"현재 날씨: {status}, 온도: {temperature}℃\")\n",
    "    return f\"현재 날씨: {status}, 온도: {temperature}℃\"\n",
    "\n",
    "# 테스트\n",
    "spoken_text = speech_to_text()\n",
    "\n",
    "if spoken_text:\n",
    "    if \"현재 시각\" and \"현재 시간\" and \"몇 시\"in spoken_text:\n",
    "        current_time = get_current_time()\n",
    "    elif \"날씨\" in spoken_text:\n",
    "        weather_info = get_weather()"
   ]
  },
  {
   "cell_type": "code",
   "execution_count": 9,
   "id": "5985db06",
   "metadata": {},
   "outputs": [
    {
     "name": "stdout",
     "output_type": "stream",
     "text": [
      "Collecting mysqlclient\n",
      "  Downloading mysqlclient-2.2.0-cp310-cp310-win_amd64.whl (199 kB)\n",
      "     -------------------------------------- 199.9/199.9 kB 4.0 MB/s eta 0:00:00\n",
      "Installing collected packages: mysqlclient\n",
      "Successfully installed mysqlclient-2.2.0\n",
      "Note: you may need to restart the kernel to use updated packages.\n"
     ]
    }
   ],
   "source": [
    "pip install mysqlclient"
   ]
  },
  {
   "cell_type": "code",
   "execution_count": 11,
   "id": "bc459e93",
   "metadata": {},
   "outputs": [
    {
     "name": "stdout",
     "output_type": "stream",
     "text": [
      "Collecting pymysql\n",
      "  Downloading PyMySQL-1.1.0-py3-none-any.whl (44 kB)\n",
      "     ---------------------------------------- 44.8/44.8 kB 2.2 MB/s eta 0:00:00\n",
      "Installing collected packages: pymysql\n",
      "Successfully installed pymysql-1.1.0\n",
      "Note: you may need to restart the kernel to use updated packages.\n"
     ]
    }
   ],
   "source": [
    "pip install pymysql"
   ]
  },
  {
   "cell_type": "code",
   "execution_count": 17,
   "id": "fb37f684",
   "metadata": {},
   "outputs": [
    {
     "name": "stderr",
     "output_type": "stream",
     "text": [
      "C:\\Users\\gjaischool1\\AppData\\Local\\Temp\\ipykernel_21960\\3367553814.py:10: UserWarning: pandas only supports SQLAlchemy connectable (engine/connection) or database string URI or sqlite3 DBAPI2 connection. Other DBAPI2 objects are not tested. Please consider using SQLAlchemy.\n",
      "  df = pd.read_sql(query, con=db)\n"
     ]
    },
    {
     "data": {
      "text/html": [
       "<div>\n",
       "<style scoped>\n",
       "    .dataframe tbody tr th:only-of-type {\n",
       "        vertical-align: middle;\n",
       "    }\n",
       "\n",
       "    .dataframe tbody tr th {\n",
       "        vertical-align: top;\n",
       "    }\n",
       "\n",
       "    .dataframe thead th {\n",
       "        text-align: right;\n",
       "    }\n",
       "</style>\n",
       "<table border=\"1\" class=\"dataframe\">\n",
       "  <thead>\n",
       "    <tr style=\"text-align: right;\">\n",
       "      <th></th>\n",
       "      <th>parking_idx</th>\n",
       "      <th>parking_name</th>\n",
       "      <th>parking_tel</th>\n",
       "      <th>parking_addr</th>\n",
       "      <th>num_of_parking_lot</th>\n",
       "      <th>lat</th>\n",
       "      <th>log</th>\n",
       "      <th>parking_img</th>\n",
       "    </tr>\n",
       "  </thead>\n",
       "  <tbody>\n",
       "    <tr>\n",
       "      <th>0</th>\n",
       "      <td>1</td>\n",
       "      <td>대인동 광주우체국 옆</td>\n",
       "      <td></td>\n",
       "      <td>대인동 16-13</td>\n",
       "      <td>8</td>\n",
       "      <td>35.154060</td>\n",
       "      <td>126.913660</td>\n",
       "      <td></td>\n",
       "    </tr>\n",
       "    <tr>\n",
       "      <th>1</th>\n",
       "      <td>2</td>\n",
       "      <td>광산교회 앞</td>\n",
       "      <td></td>\n",
       "      <td>제봉로98번길 11-3 주변</td>\n",
       "      <td>14</td>\n",
       "      <td>35.147667</td>\n",
       "      <td>126.922834</td>\n",
       "      <td></td>\n",
       "    </tr>\n",
       "    <tr>\n",
       "      <th>2</th>\n",
       "      <td>3</td>\n",
       "      <td>전남여고 후문 앞 공영주차장</td>\n",
       "      <td></td>\n",
       "      <td>장동 139</td>\n",
       "      <td>44</td>\n",
       "      <td>35.847366</td>\n",
       "      <td>127.063175</td>\n",
       "      <td></td>\n",
       "    </tr>\n",
       "    <tr>\n",
       "      <th>3</th>\n",
       "      <td>4</td>\n",
       "      <td>동명동(푸른길)</td>\n",
       "      <td></td>\n",
       "      <td>동명동 25번지 주변</td>\n",
       "      <td>32</td>\n",
       "      <td>35.150390</td>\n",
       "      <td>126.928271</td>\n",
       "      <td></td>\n",
       "    </tr>\n",
       "    <tr>\n",
       "      <th>4</th>\n",
       "      <td>5</td>\n",
       "      <td>서석교회 옆</td>\n",
       "      <td></td>\n",
       "      <td>동명동 142-34</td>\n",
       "      <td>7</td>\n",
       "      <td>35.147833</td>\n",
       "      <td>126.926789</td>\n",
       "      <td></td>\n",
       "    </tr>\n",
       "    <tr>\n",
       "      <th>...</th>\n",
       "      <td>...</td>\n",
       "      <td>...</td>\n",
       "      <td>...</td>\n",
       "      <td>...</td>\n",
       "      <td>...</td>\n",
       "      <td>...</td>\n",
       "      <td>...</td>\n",
       "      <td>...</td>\n",
       "    </tr>\n",
       "    <tr>\n",
       "      <th>507</th>\n",
       "      <td>508</td>\n",
       "      <td>은광</td>\n",
       "      <td></td>\n",
       "      <td>신가동 873-2</td>\n",
       "      <td>5</td>\n",
       "      <td>35.181836</td>\n",
       "      <td>126.827808</td>\n",
       "      <td></td>\n",
       "    </tr>\n",
       "    <tr>\n",
       "      <th>508</th>\n",
       "      <td>509</td>\n",
       "      <td>뉴세림테크㈜</td>\n",
       "      <td></td>\n",
       "      <td>연산동 1122-1</td>\n",
       "      <td>19</td>\n",
       "      <td>35.117687</td>\n",
       "      <td>126.760328</td>\n",
       "      <td></td>\n",
       "    </tr>\n",
       "    <tr>\n",
       "      <th>509</th>\n",
       "      <td>510</td>\n",
       "      <td>진곡화물공영차고지</td>\n",
       "      <td></td>\n",
       "      <td>하남동 837</td>\n",
       "      <td>430</td>\n",
       "      <td>35.194637</td>\n",
       "      <td>126.794253</td>\n",
       "      <td></td>\n",
       "    </tr>\n",
       "    <tr>\n",
       "      <th>510</th>\n",
       "      <td>511</td>\n",
       "      <td>남호주차장</td>\n",
       "      <td></td>\n",
       "      <td>수완동 1109</td>\n",
       "      <td>20</td>\n",
       "      <td>35.191612</td>\n",
       "      <td>126.827903</td>\n",
       "      <td></td>\n",
       "    </tr>\n",
       "    <tr>\n",
       "      <th>511</th>\n",
       "      <td>512</td>\n",
       "      <td>파킹24</td>\n",
       "      <td></td>\n",
       "      <td>장덕동 1668</td>\n",
       "      <td>27</td>\n",
       "      <td>35.190153</td>\n",
       "      <td>126.817905</td>\n",
       "      <td></td>\n",
       "    </tr>\n",
       "  </tbody>\n",
       "</table>\n",
       "<p>512 rows × 8 columns</p>\n",
       "</div>"
      ],
      "text/plain": [
       "     parking_idx     parking_name parking_tel     parking_addr  \\\n",
       "0              1      대인동 광주우체국 옆                    대인동 16-13   \n",
       "1              2           광산교회 앞              제봉로98번길 11-3 주변   \n",
       "2              3  전남여고 후문 앞 공영주차장                       장동 139   \n",
       "3              4         동명동(푸른길)                  동명동 25번지 주변   \n",
       "4              5           서석교회 옆                   동명동 142-34   \n",
       "..           ...              ...         ...              ...   \n",
       "507          508               은광                    신가동 873-2   \n",
       "508          509           뉴세림테크㈜                   연산동 1122-1   \n",
       "509          510        진곡화물공영차고지                      하남동 837   \n",
       "510          511            남호주차장                     수완동 1109   \n",
       "511          512             파킹24                     장덕동 1668   \n",
       "\n",
       "    num_of_parking_lot        lat         log parking_img  \n",
       "0                    8  35.154060  126.913660              \n",
       "1                   14  35.147667  126.922834              \n",
       "2                   44  35.847366  127.063175              \n",
       "3                   32  35.150390  126.928271              \n",
       "4                    7  35.147833  126.926789              \n",
       "..                 ...        ...         ...         ...  \n",
       "507                  5  35.181836  126.827808              \n",
       "508                 19  35.117687  126.760328              \n",
       "509                430  35.194637  126.794253              \n",
       "510                 20  35.191612  126.827903              \n",
       "511                 27  35.190153  126.817905              \n",
       "\n",
       "[512 rows x 8 columns]"
      ]
     },
     "execution_count": 17,
     "metadata": {},
     "output_type": "execute_result"
    }
   ],
   "source": [
    "import pandas as pd\n",
    "import pymysql\n",
    "\n",
    "# MySQL 연결 설정\n",
    "db = pymysql.connect(host='project-db-stu3.smhrd.com', user='Insa4_IOTA_final_3',\n",
    "                     password='aischool3', db='Insa4_IOTA_final_3', charset='utf8', port=3307)\n",
    "\n",
    "# 데이터베이스에서 데이터 가져오기\n",
    "query = \"SELECT * FROM tbl_parking_lot\"\n",
    "df = pd.read_sql(query, con=db)\n",
    "\n",
    "# 연결 닫기\n",
    "db.close()\n",
    "\n",
    "# 데이터프레임 출력\n",
    "df"
   ]
  },
  {
   "cell_type": "code",
   "execution_count": 25,
   "id": "ef41dbb8",
   "metadata": {},
   "outputs": [
    {
     "name": "stdout",
     "output_type": "stream",
     "text": [
      "Failed to get current location.\n"
     ]
    }
   ],
   "source": [
    "import requests\n",
    "\n",
    "def get_current_location():\n",
    "    # IP 기반 위치 추정 API 사용\n",
    "    ip_api_url = \"https://api.ipgeolocation.io/ipgeo\"\n",
    "    api_key = \"04974bf54a3b48eab5e20d2aef390404\"  # 발급받은 API 키로 대체\n",
    "\n",
    "    # API 요청에 필요한 매개변수 설정\n",
    "    params = {\n",
    "        'apiKey': api_key,\n",
    "    }\n",
    "\n",
    "    # API 호출\n",
    "    response = requests.get(ip_api_url, params=params)\n",
    "    result = response.json()\n",
    "\n",
    "    # 결과 확인\n",
    "    if 'lat' in result and 'lon' in result:\n",
    "        latitude, longitude = result['lat'], result['lon']\n",
    "        return latitude, longitude\n",
    "    else:\n",
    "        print(\"Failed to get current location.\")\n",
    "        return None\n",
    "/# 현재 위치의 좌표 가져오기\n",
    "current_location = get_current_location()\n",
    "\n",
    "# 결과 출력\n",
    "if current_location:\n",
    "    print(f\"Current location coordinates: {current_location}\")"
   ]
  },
  {
   "cell_type": "code",
   "execution_count": 26,
   "id": "5135c602",
   "metadata": {
    "scrolled": true
   },
   "outputs": [
    {
     "ename": "NameError",
     "evalue": "name 'ip_api_url' is not defined",
     "output_type": "error",
     "traceback": [
      "\u001b[1;31m---------------------------------------------------------------------------\u001b[0m",
      "\u001b[1;31mNameError\u001b[0m                                 Traceback (most recent call last)",
      "Cell \u001b[1;32mIn[26], line 1\u001b[0m\n\u001b[1;32m----> 1\u001b[0m response \u001b[38;5;241m=\u001b[39m requests\u001b[38;5;241m.\u001b[39mget(\u001b[43mip_api_url\u001b[49m, params\u001b[38;5;241m=\u001b[39mparams)\n\u001b[0;32m      2\u001b[0m \u001b[38;5;28mprint\u001b[39m(response\u001b[38;5;241m.\u001b[39mtext)  \u001b[38;5;66;03m# API 응답 출력\u001b[39;00m\n\u001b[0;32m      4\u001b[0m result \u001b[38;5;241m=\u001b[39m response\u001b[38;5;241m.\u001b[39mjson()\n",
      "\u001b[1;31mNameError\u001b[0m: name 'ip_api_url' is not defined"
     ]
    }
   ],
   "source": [
    "response = requests.get(ip_api_url, params=params)\n",
    "print(response.text)  # API 응답 출력\n",
    "\n",
    "result = response.json()"
   ]
  }
 ],
 "metadata": {
  "kernelspec": {
   "display_name": "Python 3 (ipykernel)",
   "language": "python",
   "name": "python3"
  },
  "language_info": {
   "codemirror_mode": {
    "name": "ipython",
    "version": 3
   },
   "file_extension": ".py",
   "mimetype": "text/x-python",
   "name": "python",
   "nbconvert_exporter": "python",
   "pygments_lexer": "ipython3",
   "version": "3.10.9"
  }
 },
 "nbformat": 4,
 "nbformat_minor": 5
}
